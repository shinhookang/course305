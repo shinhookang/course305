{
 "cells": [
  {
   "cell_type": "markdown",
   "metadata": {},
   "source": [
    "# Python Programming (Ch. 3)\n",
    "\n",
    "This tutorial will serve as a gentle introduction to Python Programming.\n",
    "\n",
    "* Script files\n",
    "* Input/Output\n",
    "* Structured Programming\n",
    "* Nesting and Indentation\n",
    "* Functions with Function Name Arguments"
   ]
  },
  {
   "cell_type": "markdown",
   "metadata": {},
   "source": [
    "## Script files\n",
    "\n",
    "a collection of Python statements. "
   ]
  },
  {
   "cell_type": "markdown",
   "metadata": {},
   "source": [
    "### A free-falling bungee jumper\n",
    "\n",
    "We consider a free-falling bungee jumper as follows.\n",
    "\n",
    "<img src=\"./figures/bungee.png\" width=\"100\" />\n",
    "\n",
    "<sub><sub>(from Applied Numerical Methods with Python for Engineers and Scientists)</sub></sub>\n",
    "\n",
    "The mathematical formulation is given as\n",
    "\n",
    "$$ \\frac{dv}{dt} = g - \\frac{c_d}{m}v^2, $$\n",
    "\n",
    "where\n",
    "$v$ is downward vertical velocity,\n",
    "$t$ is time, \n",
    "$g$ is the gravity acceleration,\n",
    "$c_d$ is the drag coefficient,\n",
    "$m$ is the jumper's mass. \n",
    "\n",
    "This is a mathematical model which describes the acceleration of a falling object to the forces on it. \n",
    "\n",
    "The exact solution is given as \n",
    "\n",
    "$$ v(t) = \\sqrt{\\frac{gm}{c_d}} \\tanh (\\sqrt{\\frac{gm}{c_d}} t)$$\n"
   ]
  },
  {
   "cell_type": "code",
   "execution_count": 1,
   "metadata": {},
   "outputs": [
    {
     "name": "stdout",
     "output_type": "stream",
     "text": [
      "velocity = 51.69375204026111 m/s\n"
     ]
    }
   ],
   "source": [
    "\"\"\" \n",
    "This is example 3.1. which computes the velocity of the free-falling bungee jumper.\n",
    "\n",
    "\"\"\"\n",
    "\n",
    "import math\n",
    "g = 9.81 # [m/s] \n",
    "m = 68.1 # [kg] \n",
    "t = 12 # [sec]\n",
    "cd = 0.25 # [kg/m]\n",
    "v = math.sqrt(m*g/cd)*math.tanh(math.sqrt(m*g/cd)*t)\n",
    "print('velocity =', v, 'm/s')"
   ]
  },
  {
   "cell_type": "markdown",
   "metadata": {},
   "source": [
    "### Python Functions\n",
    "\n",
    "scripts that accept input arguments and return results.\n",
    "\n",
    "```python\n",
    "def function_name(arguments):\n",
    "    \"\"\" docstring \"\"\"\n",
    "    statement\n",
    "    return output\n",
    "```\n",
    "\n",
    "You can retrieve the docstring of the function_name as \n",
    "\n",
    "```python \n",
    "function_name.__doc__\n",
    "```"
   ]
  },
  {
   "cell_type": "code",
   "execution_count": 3,
   "metadata": {},
   "outputs": [
    {
     "data": {
      "text/plain": [
       "51.684924881439066"
      ]
     },
     "execution_count": 3,
     "metadata": {},
     "output_type": "execute_result"
    }
   ],
   "source": [
    "# example 3.2\n",
    "import math\n",
    "import scipy.constants as pc\n",
    "\n",
    "def freefall(t,m,cd):\n",
    "    \"\"\" \n",
    "    This function computes bungee jumper velocity with 2nd-order drag.\n",
    "    input arguments: \n",
    "        t: time \n",
    "        m: mass\n",
    "        cd: drag coeffcient\n",
    "    output:\n",
    "        v: velocity\n",
    "    \"\"\" \n",
    "    g = pc.g \n",
    "    return math.sqrt(m*g/cd)*math.tanh(math.sqrt(m*g/cd)*t)\n",
    "\n",
    "freefall(12,68.1,0.25)\n"
   ]
  },
  {
   "cell_type": "code",
   "execution_count": 4,
   "metadata": {},
   "outputs": [
    {
     "name": "stdout",
     "output_type": "stream",
     "text": [
      "velocity=62.6311 m/s\n"
     ]
    }
   ],
   "source": [
    "# different arguments\n",
    "v = freefall(8,100,0.25)\n",
    "print('velocity={0:g} m/s'.format(v))"
   ]
  },
  {
   "cell_type": "code",
   "execution_count": 5,
   "metadata": {},
   "outputs": [
    {
     "name": "stdout",
     "output_type": "stream",
     "text": [
      " \n",
      "    This function computes bungee jumper velocity with 2nd-order drag.\n",
      "    input arguments: \n",
      "        t: time \n",
      "        m: mass\n",
      "        cd: drag coeffcient\n",
      "    output:\n",
      "        v: velocity\n",
      "    \n"
     ]
    }
   ],
   "source": [
    "# see the docstring\n",
    "print(freefall.__doc__)"
   ]
  },
  {
   "cell_type": "code",
   "execution_count": 11,
   "metadata": {},
   "outputs": [
    {
     "name": "stdout",
     "output_type": "stream",
     "text": [
      "(8, 7.125, 2.5708704751503917)\n",
      "<class 'tuple'>\n",
      "n =  8\n",
      "avg =  7.125\n",
      "s =  2.5708704751503917\n"
     ]
    }
   ],
   "source": [
    "# Python function can return more than one result.\n",
    "import numpy as np \n",
    "def stats(x):\n",
    "    n = len(x)\n",
    "    avg = np.average(x)\n",
    "    s = np.std(x)\n",
    "    return n, avg, s \n",
    "\n",
    "y = [8,5,10,12,6,7,5,4]\n",
    "z = stats(y)\n",
    "print(z)\n",
    "print(type(z)) \n",
    "\n",
    "_n, _avg, _s = stats(y)\n",
    "print('n = ',_n)\n",
    "print('avg = ',_avg)\n",
    "print('s = ',_s)\n"
   ]
  },
  {
   "cell_type": "markdown",
   "metadata": {},
   "source": [
    "In Python, variables are defined within a scope, which determines the variable's visibility and lifetime within the program. The scope of a variable guarantees its distinct identity and value within its specified context."
   ]
  },
  {
   "cell_type": "code",
   "execution_count": 13,
   "metadata": {},
   "outputs": [
    {
     "name": "stdout",
     "output_type": "stream",
     "text": [
      "x= 88\n",
      "sum =  6\n"
     ]
    },
    {
     "ename": "NameError",
     "evalue": "name 's' is not defined",
     "output_type": "error",
     "traceback": [
      "\u001b[0;31m---------------------------------------------------------------------------\u001b[0m",
      "\u001b[0;31mNameError\u001b[0m                                 Traceback (most recent call last)",
      "Cell \u001b[0;32mIn[13], line 11\u001b[0m\n\u001b[1;32m      9\u001b[0m d \u001b[38;5;241m=\u001b[39m \u001b[38;5;241m5\u001b[39m\n\u001b[1;32m     10\u001b[0m \u001b[38;5;28mprint\u001b[39m(\u001b[38;5;124m'\u001b[39m\u001b[38;5;124msum = \u001b[39m\u001b[38;5;124m'\u001b[39m, adder(c,d))\n\u001b[0;32m---> 11\u001b[0m \u001b[38;5;28mprint\u001b[39m(\u001b[38;5;124m'\u001b[39m\u001b[38;5;124ms =\u001b[39m\u001b[38;5;124m'\u001b[39m, \u001b[43ms\u001b[49m)\n",
      "\u001b[0;31mNameError\u001b[0m: name 's' is not defined"
     ]
    }
   ],
   "source": [
    "# local variable s cannt be seen from the general script!\n",
    "# global variable x can be seen within the function.\n",
    "def adder(a,b):\n",
    "    print('x=',x)\n",
    "    s = a + b \n",
    "    return s \n",
    "x = 88\n",
    "c = 1 \n",
    "d = 5\n",
    "print('sum = ', adder(c,d))\n",
    "print('s =', s)"
   ]
  },
  {
   "cell_type": "code",
   "execution_count": 16,
   "metadata": {},
   "outputs": [
    {
     "name": "stdout",
     "output_type": "stream",
     "text": [
      "x squared with sign =  -4.0\n"
     ]
    },
    {
     "ename": "NameError",
     "evalue": "name 'x1' is not defined",
     "output_type": "error",
     "traceback": [
      "\u001b[0;31m---------------------------------------------------------------------------\u001b[0m",
      "\u001b[0;31mNameError\u001b[0m                                 Traceback (most recent call last)",
      "Cell \u001b[0;32mIn[16], line 14\u001b[0m\n\u001b[1;32m     12\u001b[0m x \u001b[38;5;241m=\u001b[39m \u001b[38;5;241m-\u001b[39m\u001b[38;5;241m2.0\u001b[39m\n\u001b[1;32m     13\u001b[0m \u001b[38;5;28mprint\u001b[39m(\u001b[38;5;124m'\u001b[39m\u001b[38;5;124mx squared with sign = \u001b[39m\u001b[38;5;124m'\u001b[39m, sgnsqr(x))\n\u001b[0;32m---> 14\u001b[0m \u001b[38;5;28mprint\u001b[39m(\u001b[38;5;124m'\u001b[39m\u001b[38;5;124msquare root of x with sign = \u001b[39m\u001b[38;5;124m'\u001b[39m, \u001b[43msgnsqrt\u001b[49m\u001b[43m(\u001b[49m\u001b[43mx\u001b[49m\u001b[43m)\u001b[49m)\n\u001b[1;32m     15\u001b[0m \u001b[38;5;28mprint\u001b[39m(\u001b[38;5;124m'\u001b[39m\u001b[38;5;124mx2=\u001b[39m\u001b[38;5;124m'\u001b[39m,x2)\n",
      "Cell \u001b[0;32mIn[16], line 8\u001b[0m, in \u001b[0;36msgnsqrt\u001b[0;34m(x)\u001b[0m\n\u001b[1;32m      7\u001b[0m \u001b[38;5;28;01mdef\u001b[39;00m \u001b[38;5;21msgnsqrt\u001b[39m(x):\n\u001b[0;32m----> 8\u001b[0m     \u001b[38;5;28mprint\u001b[39m(\u001b[38;5;124m'\u001b[39m\u001b[38;5;124mx1=\u001b[39m\u001b[38;5;124m'\u001b[39m,\u001b[43mx1\u001b[49m)\n\u001b[1;32m      9\u001b[0m     x2 \u001b[38;5;241m=\u001b[39m np\u001b[38;5;241m.\u001b[39msqrt(\u001b[38;5;28mabs\u001b[39m(x))\u001b[38;5;241m*\u001b[39m np\u001b[38;5;241m.\u001b[39msign(x)\n\u001b[1;32m     10\u001b[0m     \u001b[38;5;28;01mreturn\u001b[39;00m x2\n",
      "\u001b[0;31mNameError\u001b[0m: name 'x1' is not defined"
     ]
    }
   ],
   "source": [
    "import numpy as np \n",
    "\n",
    "def sgnsqr(x):\n",
    "    x1 = x* abs(x)\n",
    "    return x1 \n",
    "\n",
    "def sgnsqrt(x):\n",
    "    print('x1=',x1)\n",
    "    x2 = np.sqrt(abs(x))* np.sign(x)\n",
    "    return x2 \n",
    "\n",
    "x = -2.0\n",
    "print('x squared with sign = ', sgnsqr(x))\n",
    "print('square root of x with sign = ', sgnsqrt(x))\n",
    "print('x2=',x2)\n",
    "    "
   ]
  },
  {
   "cell_type": "code",
   "execution_count": 17,
   "metadata": {},
   "outputs": [
    {
     "name": "stdout",
     "output_type": "stream",
     "text": [
      "x squared with sign =  -4.0\n",
      "square root of x with sign =  -1.4142135623730951\n"
     ]
    }
   ],
   "source": [
    "import numpy as np \n",
    "\n",
    "def sgnsqr(x):\n",
    "    x1 = x* abs(x)\n",
    "    return x1 \n",
    "\n",
    "def sgnsqrt(x):\n",
    "    x2 = np.sqrt(abs(x))* np.sign(x)\n",
    "    return x2 \n",
    "\n",
    "x = -2.0\n",
    "print('x squared with sign = ', sgnsqr(x))\n",
    "print('square root of x with sign = ', sgnsqrt(x))\n",
    "    "
   ]
  },
  {
   "cell_type": "code",
   "execution_count": 18,
   "metadata": {},
   "outputs": [
    {
     "name": "stdout",
     "output_type": "stream",
     "text": [
      "sum =  6\n",
      "x = 88\n"
     ]
    }
   ],
   "source": [
    "# we can change the scope of a variable in a function from local to global.\n",
    "\n",
    "# local variable s cannt be seen from the general script!\n",
    "# global variable x can be seen within the function.\n",
    "def adder(a,b):\n",
    "    global x \n",
    "    x = 88 \n",
    "    s = a + b \n",
    "    return s \n",
    "c = 1 \n",
    "d = 5\n",
    "print('sum = ', adder(c,d))\n",
    "print('x =', x)"
   ]
  },
  {
   "cell_type": "code",
   "execution_count": 24,
   "metadata": {},
   "outputs": [
    {
     "name": "stdout",
     "output_type": "stream",
     "text": [
      "fun1 result= -3.2\n"
     ]
    }
   ],
   "source": [
    "# We consider a function embedded within another function. \n",
    "# This is a nested function in Python.\n",
    "# The inner function can access variables and parameters of the outer function,\n",
    "# enhancing encapsulation and modularity in programming.\n",
    "\n",
    "def fun1(x):\n",
    "    b = -1\n",
    "    d = 0.1\n",
    "    def fun2(a,x):\n",
    "        c = d*a*x**5\n",
    "        return c \n",
    "    return fun2(b,x)\n",
    "\n",
    "x = 2\n",
    "print('fun1 result=', fun1(x))\n",
    " "
   ]
  },
  {
   "cell_type": "code",
   "execution_count": 25,
   "metadata": {},
   "outputs": [
    {
     "ename": "NameError",
     "evalue": "name 'fun2' is not defined",
     "output_type": "error",
     "traceback": [
      "\u001b[0;31m---------------------------------------------------------------------------\u001b[0m",
      "\u001b[0;31mNameError\u001b[0m                                 Traceback (most recent call last)",
      "Cell \u001b[0;32mIn[25], line 1\u001b[0m\n\u001b[0;32m----> 1\u001b[0m \u001b[38;5;28mprint\u001b[39m(\u001b[38;5;124m'\u001b[39m\u001b[38;5;124mfun2 result=\u001b[39m\u001b[38;5;124m'\u001b[39m, \u001b[43mfun2\u001b[49m(\u001b[38;5;241m1\u001b[39m,x))\n",
      "\u001b[0;31mNameError\u001b[0m: name 'fun2' is not defined"
     ]
    }
   ],
   "source": [
    "# fun2 cannot be invoked from outside the fun1 function.\n",
    "print('fun2 result=', fun2(1,x))"
   ]
  },
  {
   "cell_type": "markdown",
   "metadata": {},
   "source": [
    "## Input-Output\n",
    "\n",
    "```python\n",
    ">>> s = input('')\n",
    "test\n",
    ">>> print(s)\n",
    "test\n",
    "```"
   ]
  },
  {
   "cell_type": "markdown",
   "metadata": {},
   "source": [
    "### KMA Weather Data Service \n",
    "\n",
    "<img src=\"./figures/aws.jpeg\" width=\"300\" />\n",
    "\n",
    "* https://data.kma.go.kr/resources/html/en/aowdp.html\n",
    "* AWS data at Goun-dong, Sejong-si\n",
    "\n",
    "<img src=\"./figures/awsdata.png\" width=\"300\" />\n",
    "\n",
    "```python\n",
    "numpy.loadtxt(fname, dtype=<class 'float'>, comments='#', delimiter=None, converters=None, skiprows=0, usecols=None, unpack=False, ndmin=0, encoding='bytes', max_rows=None, *, quotechar=None, like=None)\n",
    "```"
   ]
  },
  {
   "cell_type": "code",
   "execution_count": 5,
   "metadata": {},
   "outputs": [
    {
     "name": "stdout",
     "output_type": "stream",
     "text": [
      "[ 1.  2.  3.  4.  5.  6.  7.  8.  9. 10. 11. 12. 13. 14. 15. 16. 17. 18.\n",
      " 19. 20. 21. 22. 23.]\n",
      "[2.1 1.8 1.3 0.9 0.7 0.3 0.2 0.8 1.8 4.8 6.4 7.8 8.7 9.3 9.3 9.7 9.  8.1\n",
      " 7.1 6.1 5.3 5.2 4.3]\n"
     ]
    }
   ],
   "source": [
    "# read data file\n",
    "# https://data.kma.go.kr/cmmn/static/staticPage.do?page=intro\n",
    "\n",
    "import numpy as np \n",
    "_, t, temp = np.loadtxt('./data/awsdata.txt',skiprows=2,unpack=True)\n",
    "print(t)\n",
    "print(temp)\n"
   ]
  },
  {
   "cell_type": "code",
   "execution_count": 8,
   "metadata": {},
   "outputs": [
    {
     "name": "stdout",
     "output_type": "stream",
     "text": [
      "[ 1.  2.  3.  4.  5.  6.  7.  8.  9. 10. 11. 12. 13. 14. 15. 16. 17. 18.\n",
      " 19. 20. 21. 22. 23.]\n",
      "[2.1 1.8 1.3 0.9 0.7 0.3 0.2 0.8 1.8 4.8 6.4 7.8 8.7 9.3 9.3 9.7 9.  8.1\n",
      " 7.1 6.1 5.3 5.2 4.3]\n"
     ]
    }
   ],
   "source": [
    "# for google colab\n",
    "t = np.squeeze(np.array(np.matrix('1.  2.  3.  4.  5.  6.  7.  8.  9. 10. \\\n",
    "            11. 12. 13. 14. 15. 16. 17. 18. 19. 20. \\\n",
    "                21. 22. 23.')))\n",
    "print(t)\n",
    "temp = np.squeeze(np.array(np.matrix('2.1 1.8 1.3 0.9 0.7 0.3 0.2 0.8 1.8 4.8 6.4 7.8 \\\n",
    "                 8.7 9.3 9.3 9.7 9.  8.1 7.1 6.1 5.3 5.2 4.3')))\n",
    "print(temp)"
   ]
  },
  {
   "cell_type": "code",
   "execution_count": 13,
   "metadata": {},
   "outputs": [
    {
     "data": {
      "text/plain": [
       "Text(0, 0.5, 'Temperature [degC]')"
      ]
     },
     "execution_count": 13,
     "metadata": {},
     "output_type": "execute_result"
    },
    {
     "data": {
      "image/png": "[encoded data removed]",
      "text/plain": [
       "<Figure size 640x480 with 1 Axes>"
      ]
     },
     "metadata": {},
     "output_type": "display_data"
    }
   ],
   "source": [
    "import matplotlib.pyplot as plt \n",
    "\n",
    "plt.plot(t,temp,'k')\n",
    "plt.xlabel('Time (hour)')\n",
    "plt.ylabel('Temperature [degC]')"
   ]
  },
  {
   "cell_type": "code",
   "execution_count": 9,
   "metadata": {},
   "outputs": [
    {
     "name": "stdout",
     "output_type": "stream",
     "text": [
      "<class 'numpy.ndarray'>\n",
      "<class 'numpy.ndarray'>\n"
     ]
    }
   ],
   "source": [
    "# save data as numpy array \n",
    "print(type(t))\n",
    "print(type(temp))\n",
    "\n",
    "np.save('awsdata-t.npy',t)\n",
    "np.save('awsdata-temp.npy',temp)\n"
   ]
  },
  {
   "cell_type": "code",
   "execution_count": 10,
   "metadata": {},
   "outputs": [
    {
     "ename": "NameError",
     "evalue": "name 't' is not defined",
     "output_type": "error",
     "traceback": [
      "\u001b[0;31m---------------------------------------------------------------------------\u001b[0m",
      "\u001b[0;31mNameError\u001b[0m                                 Traceback (most recent call last)",
      "Cell \u001b[0;32mIn[10], line 3\u001b[0m\n\u001b[1;32m      1\u001b[0m \u001b[38;5;66;03m# delete t and temp\u001b[39;00m\n\u001b[1;32m      2\u001b[0m \u001b[38;5;28;01mdel\u001b[39;00m(t,temp)\n\u001b[0;32m----> 3\u001b[0m \u001b[38;5;28mprint\u001b[39m(\u001b[43mt\u001b[49m)\n\u001b[1;32m      4\u001b[0m \u001b[38;5;28mprint\u001b[39m(temp)\n",
      "\u001b[0;31mNameError\u001b[0m: name 't' is not defined"
     ]
    }
   ],
   "source": [
    "# delete t and temp\n",
    "del(t,temp)\n",
    "print(t)\n",
    "print(temp)"
   ]
  },
  {
   "cell_type": "code",
   "execution_count": 11,
   "metadata": {},
   "outputs": [
    {
     "name": "stdout",
     "output_type": "stream",
     "text": [
      "[ 1.  2.  3.  4.  5.  6.  7.  8.  9. 10. 11. 12. 13. 14. 15. 16. 17. 18.\n",
      " 19. 20. 21. 22. 23.]\n",
      "[2.1 1.8 1.3 0.9 0.7 0.3 0.2 0.8 1.8 4.8 6.4 7.8 8.7 9.3 9.3 9.7 9.  8.1\n",
      " 7.1 6.1 5.3 5.2 4.3]\n"
     ]
    }
   ],
   "source": [
    "# load awsdata \n",
    "t = np.load('awsdata-t.npy')\n",
    "print(t)\n",
    "temp = np.load('awsdata-temp.npy')\n",
    "print(temp)"
   ]
  },
  {
   "cell_type": "code",
   "execution_count": 12,
   "metadata": {},
   "outputs": [],
   "source": [
    "# Save several arrays into a single file in uncompressed .npz format. \n",
    "np.savez('awsdata.npz',t=t, temp=temp)"
   ]
  },
  {
   "cell_type": "code",
   "execution_count": 13,
   "metadata": {},
   "outputs": [
    {
     "name": "stdout",
     "output_type": "stream",
     "text": [
      "NpzFile 'awsdata.npz' with keys: t, temp\n",
      "[ 1.  2.  3.  4.  5.  6.  7.  8.  9. 10. 11. 12. 13. 14. 15. 16. 17. 18.\n",
      " 19. 20. 21. 22. 23.]\n",
      "[2.1 1.8 1.3 0.9 0.7 0.3 0.2 0.8 1.8 4.8 6.4 7.8 8.7 9.3 9.3 9.7 9.  8.1\n",
      " 7.1 6.1 5.3 5.2 4.3]\n"
     ]
    }
   ],
   "source": [
    "# access the data with keyword names\n",
    "data = np.load('awsdata.npz')\n",
    "print(data)\n",
    "print(data['t'])\n",
    "print(data['temp'])"
   ]
  },
  {
   "cell_type": "markdown",
   "metadata": {},
   "source": [
    "## Structured Programming\n",
    "\n",
    "* if \n",
    "* if else \n",
    "* if elif else \n",
    "* for \n",
    "* while"
   ]
  },
  {
   "cell_type": "markdown",
   "metadata": {},
   "source": [
    "```python\n",
    "if condition: \n",
    "    statements\n",
    "```\n"
   ]
  },
  {
   "cell_type": "code",
   "execution_count": 56,
   "metadata": {},
   "outputs": [
    {
     "name": "stdout",
     "output_type": "stream",
     "text": [
      "a is smaller than b\n"
     ]
    }
   ],
   "source": [
    "a = 5\n",
    "b = 10\n",
    "if a < b: \n",
    "    print('a is smaller than b')"
   ]
  },
  {
   "cell_type": "markdown",
   "metadata": {},
   "source": [
    "\n",
    "\n",
    "```python\n",
    "if condition: \n",
    "    statements\n",
    "else:\n",
    "    statements\n",
    "```\n"
   ]
  },
  {
   "cell_type": "code",
   "execution_count": 59,
   "metadata": {},
   "outputs": [
    {
     "name": "stdout",
     "output_type": "stream",
     "text": [
      "a is larger than b\n"
     ]
    }
   ],
   "source": [
    "a = 10\n",
    "b = 5\n",
    "if a <= b: \n",
    "    print('a is smaller than or equal to b')\n",
    "else:\n",
    "    print('a is larger than b')"
   ]
  },
  {
   "cell_type": "code",
   "execution_count": 78,
   "metadata": {},
   "outputs": [
    {
     "name": "stdout",
     "output_type": "stream",
     "text": [
      "37.00 degC\n",
      "98.60 degF\n"
     ]
    }
   ],
   "source": [
    "def tempconvert(t_in, units='degF'):\n",
    "    if units == 'degF':\n",
    "        return print('{0:5.2f} degC'.format((t_in-32)/1.8))\n",
    "    else:\n",
    "        return print('{0:5.2f} degF'.format(t_in*1.8+32))\n",
    "    \n",
    "tempconvert(98.6)\n",
    "tempconvert(37,units='degC')"
   ]
  },
  {
   "cell_type": "markdown",
   "metadata": {},
   "source": [
    "\n",
    "\n",
    "```python\n",
    "if condition: \n",
    "    statements\n",
    "elif condition: \n",
    "    statements    \n",
    "else:\n",
    "    statements\n",
    "```\n"
   ]
  },
  {
   "cell_type": "code",
   "execution_count": 62,
   "metadata": {},
   "outputs": [
    {
     "name": "stdout",
     "output_type": "stream",
     "text": [
      "a is smaller than b\n",
      "a is equal to b\n",
      "a is larger than b\n"
     ]
    }
   ],
   "source": [
    "def compare_a_and_b(a,b):\n",
    "    if a < b: \n",
    "        print('a is smaller than b')\n",
    "    elif a == b:\n",
    "        print('a is equal to b')\n",
    "    else:\n",
    "        print('a is larger than b')\n",
    "\n",
    "compare_a_and_b(5,10)\n",
    "compare_a_and_b(5,5)\n",
    "compare_a_and_b(5,1)"
   ]
  },
  {
   "cell_type": "markdown",
   "metadata": {},
   "source": [
    "\n",
    "\n",
    "```python\n",
    "for item in iterableobj:\n",
    "    statements\n",
    "```\n"
   ]
  },
  {
   "cell_type": "code",
   "execution_count": 79,
   "metadata": {},
   "outputs": [
    {
     "name": "stdout",
     "output_type": "stream",
     "text": [
      "red\n",
      "blue\n",
      "green\n",
      "black\n"
     ]
    }
   ],
   "source": [
    "for icolor in ['red','blue','green','black']:\n",
    "    print(icolor)"
   ]
  },
  {
   "cell_type": "code",
   "execution_count": 80,
   "metadata": {},
   "outputs": [
    {
     "name": "stdout",
     "output_type": "stream",
     "text": [
      "1\n",
      "2\n",
      "3\n",
      "4\n",
      "5\n"
     ]
    }
   ],
   "source": [
    "for i in [1,2,3,4,5]:\n",
    "    print(i)"
   ]
  },
  {
   "cell_type": "code",
   "execution_count": 81,
   "metadata": {},
   "outputs": [
    {
     "name": "stdout",
     "output_type": "stream",
     "text": [
      "0\n",
      "1\n",
      "2\n",
      "3\n",
      "4\n"
     ]
    }
   ],
   "source": [
    "for i in range(5):\n",
    "    print(i)"
   ]
  },
  {
   "cell_type": "code",
   "execution_count": 83,
   "metadata": {},
   "outputs": [
    {
     "name": "stdout",
     "output_type": "stream",
     "text": [
      "0\n",
      "1\n",
      "2\n",
      "3\n",
      "4\n"
     ]
    }
   ],
   "source": [
    "for i in range(0,5,1):\n",
    "    print(i)"
   ]
  },
  {
   "cell_type": "code",
   "execution_count": 84,
   "metadata": {},
   "outputs": [
    {
     "name": "stdout",
     "output_type": "stream",
     "text": [
      "0\n",
      "2\n",
      "4\n"
     ]
    }
   ],
   "source": [
    "for i in range(0,5,2):\n",
    "    print(i)"
   ]
  },
  {
   "cell_type": "code",
   "execution_count": 96,
   "metadata": {},
   "outputs": [
    {
     "name": "stdout",
     "output_type": "stream",
     "text": [
      "0\n",
      "1\n",
      "2\n",
      "3\n",
      "4\n",
      "5\n",
      "6\n",
      "7\n",
      "8\n",
      "9\n",
      "[ 1.          0.98006658  0.92106099  0.82533561  0.69670671  0.54030231\n",
      "  0.36235775  0.16996714 -0.02919952 -0.22720209]\n"
     ]
    }
   ],
   "source": [
    "# vectorization\n",
    "import numpy as np \n",
    "y = np.zeros(10)\n",
    "for i in range(10):\n",
    "    print(i)\n",
    "    t = i * 0.02\n",
    "    # print(t)\n",
    "    y[i] = np.cos(10*t)\n",
    "print(y)"
   ]
  },
  {
   "cell_type": "code",
   "execution_count": 99,
   "metadata": {},
   "outputs": [
    {
     "name": "stdout",
     "output_type": "stream",
     "text": [
      "[0. 0. 0. 0. 0. 0. 0. 0. 0. 0.]\n",
      "[0.   0.02 0.04 0.06 0.08 0.1  0.12 0.14 0.16 0.18]\n"
     ]
    },
    {
     "data": {
      "text/plain": [
       "array([ 1.        ,  0.98006658,  0.92106099,  0.82533561,  0.69670671,\n",
       "        0.54030231,  0.36235775,  0.16996714, -0.02919952, -0.22720209])"
      ]
     },
     "execution_count": 99,
     "metadata": {},
     "output_type": "execute_result"
    }
   ],
   "source": [
    "y = np.zeros(10)\n",
    "t = np.arange(0,0.2, 0.02)\n",
    "print(y)\n",
    "print(t)\n",
    "np.cos(10*t)"
   ]
  },
  {
   "cell_type": "markdown",
   "metadata": {},
   "source": [
    "\n",
    "\n",
    "```python\n",
    "while condition:\n",
    "    statements\n",
    "```"
   ]
  },
  {
   "cell_type": "code",
   "execution_count": 101,
   "metadata": {},
   "outputs": [
    {
     "name": "stdout",
     "output_type": "stream",
     "text": [
      "9\n",
      "8\n",
      "7\n",
      "6\n",
      "5\n",
      "4\n",
      "3\n",
      "2\n",
      "1\n",
      "0\n"
     ]
    }
   ],
   "source": [
    "cnt = 10 \n",
    "while cnt > 0:\n",
    "    cnt = cnt - 1\n",
    "    print(cnt)"
   ]
  },
  {
   "cell_type": "code",
   "execution_count": 104,
   "metadata": {},
   "outputs": [
    {
     "name": "stdout",
     "output_type": "stream",
     "text": [
      "9\n",
      "8\n",
      "7\n",
      "6\n",
      "5\n"
     ]
    }
   ],
   "source": [
    "# break\n",
    "cnt = 10 \n",
    "while True:\n",
    "    cnt = cnt - 1\n",
    "    if cnt < 5: break\n",
    "    print(cnt)"
   ]
  },
  {
   "cell_type": "markdown",
   "metadata": {},
   "source": [
    "## Nesting and Indentation\n",
    "\n",
    "\n",
    "\n"
   ]
  },
  {
   "cell_type": "markdown",
   "metadata": {},
   "source": [
    "\n",
    "\n",
    "```python\n",
    "if condition1: \n",
    "    if condition2: \n",
    "        statements\n",
    "    else:\n",
    "        statements\n",
    "else:\n",
    "    if condition3: \n",
    "        statements\n",
    "    else:\n",
    "        statements\n",
    "```\n"
   ]
  },
  {
   "cell_type": "markdown",
   "metadata": {},
   "source": [
    "## Python Functions with Function Name Arguments\n",
    "\n"
   ]
  },
  {
   "cell_type": "code",
   "execution_count": 108,
   "metadata": {},
   "outputs": [
    {
     "data": {
      "text/plain": [
       "25"
      ]
     },
     "execution_count": 108,
     "metadata": {},
     "output_type": "execute_result"
    }
   ],
   "source": [
    "# lambda function creates a simple function \n",
    "f1 = lambda x,y: x**2 + y**2\n",
    "\n",
    "f1(3,4)"
   ]
  },
  {
   "cell_type": "code",
   "execution_count": 114,
   "metadata": {},
   "outputs": [
    {
     "data": {
      "text/plain": [
       "14"
      ]
     },
     "execution_count": 114,
     "metadata": {},
     "output_type": "execute_result"
    }
   ],
   "source": [
    "# lambda function can include global variables\n",
    "a = 3\n",
    "b = 5 \n",
    "f2 = lambda x: a**x + b\n",
    "\n",
    "f2(2)"
   ]
  },
  {
   "cell_type": "code",
   "execution_count": 115,
   "metadata": {},
   "outputs": [
    {
     "data": {
      "text/plain": [
       "14"
      ]
     },
     "execution_count": 115,
     "metadata": {},
     "output_type": "execute_result"
    }
   ],
   "source": [
    "# return a function \n",
    "def new_function(a,b):\n",
    "    def f2(x):\n",
    "        return a**x + b\n",
    "    return f2 \n",
    "f2 = new_function(a,b)\n",
    "f2(2)"
   ]
  },
  {
   "cell_type": "code",
   "execution_count": 117,
   "metadata": {},
   "outputs": [
    {
     "data": {
      "text/plain": [
       "14"
      ]
     },
     "execution_count": 117,
     "metadata": {},
     "output_type": "execute_result"
    }
   ],
   "source": [
    "# USE partial! \n",
    "from functools import partial\n",
    "\n",
    "function = lambda a,b,x: a**x + b\n",
    "f2 = partial(function,3,5)\n",
    "\n",
    "f2(2)\n"
   ]
  },
  {
   "cell_type": "code",
   "execution_count": 112,
   "metadata": {},
   "outputs": [
    {
     "name": "stdout",
     "output_type": "stream",
     "text": [
      "0.28366218546322625\n"
     ]
    }
   ],
   "source": [
    "# a function can take another function as an argument\n",
    "def f_at_midpoint(f,x1,x2):\n",
    "    xmid = (x1 + x2)/2\n",
    "    return f(xmid)\n",
    "\n",
    "fmid = f_at_midpoint(np.cos, 0,10)\n",
    "print(fmid)"
   ]
  }
 ],
 "metadata": {
  "kernelspec": {
   "display_name": "Python 3",
   "language": "python",
   "name": "python3"
  },
  "language_info": {
   "codemirror_mode": {
    "name": "ipython",
    "version": 3
   },
   "file_extension": ".py",
   "mimetype": "text/x-python",
   "name": "python",
   "nbconvert_exporter": "python",
   "pygments_lexer": "ipython3",
   "version": "3.9.6"
  }
 },
 "nbformat": 4,
 "nbformat_minor": 2
}
