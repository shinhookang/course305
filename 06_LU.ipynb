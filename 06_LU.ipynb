{
 "cells": [
  {
   "cell_type": "markdown",
   "metadata": {},
   "source": [
    "# LU Factorization (Ch. 10)\n",
    "\n"
   ]
  },
  {
   "cell_type": "markdown",
   "metadata": {},
   "source": [
    "Use LU factorization function from Scipy library\n",
    "```sc.linalg.lu```\n"
   ]
  },
  {
   "cell_type": "code",
   "execution_count": 16,
   "metadata": {},
   "outputs": [
    {
     "name": "stdout",
     "output_type": "stream",
     "text": [
      "Permutation Matrix =\n",
      " [[1. 0. 0.]\n",
      " [0. 1. 0.]\n",
      " [0. 0. 1.]]\n",
      "Lower Triangular Matrix =\n",
      " [[ 1.          0.          0.        ]\n",
      " [ 0.03333333  1.          0.        ]\n",
      " [ 0.1        -0.02712994  1.        ]]\n",
      "Upper Triangular Matrix =\n",
      " [[ 3.         -0.1        -0.2       ]\n",
      " [ 0.          7.00333333 -0.29333333]\n",
      " [ 0.          0.         10.01204188]]\n",
      "[[0. 0. 0.]\n",
      " [0. 0. 0.]\n",
      " [0. 0. 0.]]\n",
      "x_sol=  [0.16673877 0.01169938 0.99523182]\n",
      "x_lu =  [0.16673877 0.01169938 0.99523182]\n",
      "x_sol - x_lu =  [0. 0. 0.]\n"
     ]
    }
   ],
   "source": [
    "import scipy as sc \n",
    "import numpy as np \n",
    "\n",
    "\n",
    "A = np.array([[3, -0.1, -0.2], [0.1, 7, -0.3], [0.3, -0.2, 10]])\n",
    "b = np.array([0.3, -0.2, 10])\n",
    "\n",
    "P,L,U = sc.linalg.lu(A)\n",
    "print('Permutation Matrix =\\n',P)\n",
    "print('Lower Triangular Matrix =\\n',L)\n",
    "print('Upper Triangular Matrix =\\n',U)\n",
    "             \n",
    "# sanity check             \n",
    "print(np.matmul(L,U)-A)\n",
    "\n",
    "# solution \n",
    "x_sol = np.linalg.solve(A,b)\n",
    "_d = np.linalg.solve(L,b)\n",
    "x = np.linalg.solve(U,_d)\n",
    "print('x_sol= ', x_sol)\n",
    "print('x_lu = ', x)\n",
    "print('x_sol - x_lu = ', x_sol - x)\n"
   ]
  },
  {
   "cell_type": "markdown",
   "metadata": {},
   "source": [
    "Use Cholesky factorization function from Scipy library\n",
    "```sc.linalg.cholesky```\n"
   ]
  },
  {
   "cell_type": "code",
   "execution_count": 29,
   "metadata": {},
   "outputs": [
    {
     "name": "stdout",
     "output_type": "stream",
     "text": [
      "A = \n",
      " [[  4  12 -16]\n",
      " [ 12  37 -43]\n",
      " [-16 -43  98]]\n",
      "x = \n",
      " [1. 1. 1.]\n",
      "b = \n",
      " [ 0.  6. 39.]\n",
      "U = \n",
      " [[ 2.  6. -8.]\n",
      " [ 0.  1.  5.]\n",
      " [ 0.  0.  3.]]\n",
      "[[0. 0. 0.]\n",
      " [0. 0. 0.]\n",
      " [0. 0. 0.]]\n",
      "x=  \n",
      " [1. 1. 1.]\n"
     ]
    }
   ],
   "source": [
    "import scipy as sc \n",
    "import numpy as np \n",
    "\n",
    "\n",
    "# consider a symmtric matrix A\n",
    "A = np.array([[4, 12, -16], [12, 37, -43], [-16, -43, 98]])\n",
    "x = np.ones([3])\n",
    "b = np.dot(A,x)\n",
    "print('A = \\n', A)\n",
    "print('x = \\n', x)\n",
    "print('b = \\n', b)\n",
    "\n",
    "# compute U such that A = U^T U\n",
    "U = sc.linalg.cholesky(A,lower=False)  \n",
    "print('U = \\n', U)\n",
    "\n",
    "# sanity check\n",
    "print(np.matmul(U.transpose(),U)-A)\n",
    "\n",
    "# 1. Solve for d\n",
    "_d = np.linalg.solve(U.transpose(),b)\n",
    "\n",
    "# 2. Solve for x \n",
    "x = np.linalg.solve(U,_d)\n",
    "print('x=  \\n',x)\n",
    "\n"
   ]
  },
  {
   "cell_type": "code",
   "execution_count": 30,
   "metadata": {},
   "outputs": [
    {
     "name": "stdout",
     "output_type": "stream",
     "text": [
      "L = \n",
      " [[ 2.  0.  0.]\n",
      " [ 6.  1.  0.]\n",
      " [-8.  5.  3.]]\n",
      "[[0. 0. 0.]\n",
      " [0. 0. 0.]\n",
      " [0. 0. 0.]]\n",
      "x=  \n",
      " [1. 1. 1.]\n"
     ]
    }
   ],
   "source": [
    "# compute L such that A = L L^T\n",
    "L = sc.linalg.cholesky(A,lower=True)  \n",
    "print('L = \\n', L)\n",
    "\n",
    "# sanity check\n",
    "print(np.matmul(L,L.transpose())-A)\n",
    "\n",
    "# 1. Solve for d\n",
    "_d = np.linalg.solve(L,b)\n",
    "\n",
    "# 2. Solve for x \n",
    "x = np.linalg.solve(L.transpose(),_d)\n",
    "print('x=  \\n',x)"
   ]
  },
  {
   "cell_type": "code",
   "execution_count": null,
   "metadata": {},
   "outputs": [],
   "source": []
  }
 ],
 "metadata": {
  "kernelspec": {
   "display_name": "Python 3",
   "language": "python",
   "name": "python3"
  },
  "language_info": {
   "codemirror_mode": {
    "name": "ipython",
    "version": 3
   },
   "file_extension": ".py",
   "mimetype": "text/x-python",
   "name": "python",
   "nbconvert_exporter": "python",
   "pygments_lexer": "ipython3",
   "version": "3.9.6"
  }
 },
 "nbformat": 4,
 "nbformat_minor": 2
}
