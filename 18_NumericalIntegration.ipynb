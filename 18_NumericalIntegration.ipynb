{
 "cells": [
  {
   "cell_type": "markdown",
   "metadata": {},
   "source": [
    "# Numerical Integration\n",
    "\n"
   ]
  },
  {
   "cell_type": "code",
   "execution_count": 1,
   "metadata": {},
   "outputs": [],
   "source": [
    "import numpy as np \n",
    "import matplotlib.pyplot as plt \n",
    "\n"
   ]
  },
  {
   "cell_type": "code",
   "execution_count": 38,
   "metadata": {},
   "outputs": [
    {
     "name": "stdout",
     "output_type": "stream",
     "text": [
      "I_trapezoid=   0.173\n",
      "1.4677329999999775\n",
      "true err=   1.468\n",
      "estimated err=   2.561\n"
     ]
    }
   ],
   "source": [
    "# ex19.1, Trapezoidal Rule \n",
    "\n",
    "f = lambda x: 0.2 + 25.*x - 200.*x**2. + 675.*x**3. - 900.*x**4. + 400.*x**5.\n",
    "\n",
    "# integrate over the range from a=0, b=0.8\n",
    "Ie = 1.640533 \n",
    "\n",
    "a = 0.\n",
    "b = .8\n",
    "I_trapezoid = (b-a)* (f(a)+f(b))/2.\n",
    "print('I_trapezoid={0:8.3f}'.format(I_trapezoid))\n",
    "\n",
    "err = Ie - I_trapezoid\n",
    "print(err)\n",
    "print('true err={0:8.3f}'.format(err))\n",
    "\n",
    "\n",
    "# the error is proportional to the second derivative.\n",
    "df = lambda x: 25. - 400.*x + 3*675.*x**2. - 3600.*x**3 + 2000.*x**4. \n",
    "ddf = lambda x: -400. + 6*675.*x - 3600.*3.*x**2. + 8000.*x**3.\n",
    "\n",
    "# average of the second derivative over the interval [a,b]\n",
    "x = np.linspace(a,b,101)\n",
    "I_ddf = np.trapz(ddf(x),x)\n",
    "ddf_bar = I_ddf/(b-a)\n",
    "# print(ddf_bar)\n",
    "\n",
    "err_truncation = -1./12. * ddf_bar * (b-a)**3.\n",
    "print('estimated err={0:8.3f}'.format(err_truncation))\n",
    "\n",
    "# err_truncation has the same order of magnitude and sign as the true error\n",
    "\n",
    "\n",
    " "
   ]
  },
  {
   "cell_type": "code",
   "execution_count": 41,
   "metadata": {},
   "outputs": [
    {
     "name": "stdout",
     "output_type": "stream",
     "text": [
      "h= 0.4\n",
      "f0=   0.200, f1=   2.456, f2=   0.232\n",
      "I= 1.0688000000000115\n",
      "et=  34.850%\n",
      "true err=   0.572\n",
      "estimated err=   0.640\n"
     ]
    }
   ],
   "source": [
    "# 19.2 \n",
    "a = 0.\n",
    "b = .8\n",
    "n = 2\n",
    "h = (b-a)/n\n",
    "print('h=',h)\n",
    "f0 = f(a)\n",
    "f1 = f(a+h)\n",
    "f2 = f(a+2*h)\n",
    "print('f0={0:8.3f}, f1={1:8.3f}, f2={2:8.3f}'.format(f0,f1,f2))\n",
    "\n",
    "I = h * (f0 + 2.*f1 + f2)/2.\n",
    "print('I=',I)\n",
    "\n",
    "et = np.abs(I- Ie)/Ie * 100\n",
    "print('et={0:8.3f}%'.format(et))\n",
    "\n",
    "err  =Ie - I \n",
    "print('true err={0:8.3f}'.format(err))\n",
    "\n",
    "\n",
    "# average of the second derivative over the interval [a,b]\n",
    "x = np.linspace(a,b,101)\n",
    "I_ddf = np.trapz(ddf(x),x)\n",
    "ddf_bar = I_ddf/(b-a)\n",
    "# print(ddf_bar)\n",
    "\n",
    "err_truncation = -(b-a)/12. * ddf_bar * h**2.\n",
    "print('estimated err={0:8.3f}'.format(err_truncation))\n",
    "\n",
    "# err_truncation has the same order of magnitude and sign as the true error\n",
    "\n",
    "\n",
    "\n",
    "\n"
   ]
  },
  {
   "cell_type": "code",
   "execution_count": 44,
   "metadata": {},
   "outputs": [
    {
     "name": "stdout",
     "output_type": "stream",
     "text": [
      "1.0688000000000115\n"
     ]
    }
   ],
   "source": [
    "def composittrap(func, a, b, n =100):\n",
    "    if b <= a: return 'upper bound should be larger than lower bound!'\n",
    "    x = a \n",
    "    h = (b-a)/ n \n",
    "    s = func(a)\n",
    "    for i in range(n-1):\n",
    "        x = x + h \n",
    "        s = s + 2.*func(x)\n",
    "    s = s + func(b)\n",
    "    rst = (b-a) *  s/ (2.*n)\n",
    "    return rst \n",
    "\n",
    "print(composittrap(f, a, b, n=2))"
   ]
  },
  {
   "cell_type": "code",
   "execution_count": 51,
   "metadata": {},
   "outputs": [
    {
     "name": "stdout",
     "output_type": "stream",
     "text": [
      "h= 0.4\n",
      "f0=   0.200, f1=   2.456, f2=   0.232\n",
      "I= 1.3674666666666744\n",
      "et=  16.645%\n",
      "true err=   0.273\n",
      "-2399.999999999997\n",
      "estimated err=   0.273\n",
      "3.333333407629091e-07\n"
     ]
    }
   ],
   "source": [
    "# 19.3 Simpson's 1/3 Rue \n",
    "\n",
    "a = 0.\n",
    "b = .8\n",
    "f = lambda x: 0.2 + 25.*x - 200.*x**2. + 675.*x**3. - 900.*x**4. + 400.*x**5.\n",
    "\n",
    "n = 2\n",
    "h = (b-a)/n\n",
    "print('h=',h)\n",
    "f0 = f(a)\n",
    "f1 = f(a+h)\n",
    "f2 = f(a+2*h)\n",
    "print('f0={0:8.3f}, f1={1:8.3f}, f2={2:8.3f}'.format(f0,f1,f2))\n",
    "\n",
    "I = h * (f0 + 4.*f1 + f2)/3.\n",
    "print('I=',I)\n",
    "\n",
    "et = np.abs(I- Ie)/Ie * 100\n",
    "print('et={0:8.3f}%'.format(et))\n",
    "\n",
    "err  =Ie - I \n",
    "print('true err={0:8.3f}'.format(err))\n",
    "\n",
    "\n",
    "# the error is proportional to the fourth derivative.\n",
    "df = lambda x: 25. - 400.*x + 3*675.*x**2. - 3600.*x**3 + 2000.*x**4. \n",
    "ddf = lambda x: -400. + 6*675.*x - 3600.*3.*x**2. + 8000.*x**3.\n",
    "dddf = lambda x: 6*675. - 3600.*6.*x + 24000.*x**2.\n",
    "ddddf = lambda x: - 3600.*6. + 48000.*x\n",
    "\n",
    "\n",
    "# average of the second derivative over the interval [a,b]\n",
    "x = np.linspace(a,b,101)\n",
    "I_ddddf = np.trapz(ddddf(x),x)\n",
    "ddddf_bar = I_ddddf/(b-a)\n",
    "print(ddddf_bar)\n",
    "\n",
    "err_truncation = -1./90. * ddddf_bar * h**5.\n",
    "print('estimated err={0:8.3f}'.format(err_truncation))\n",
    "\n",
    "# err_truncation is almost the same to the true error. \n",
    "# The difference between the two errors is within 1e-7.\n",
    "# This is because this example deals with a fifth-order polynomial. \n",
    "print(err_truncation - err)\n",
    "\n",
    "\n",
    "\n"
   ]
  },
  {
   "cell_type": "code",
   "execution_count": 54,
   "metadata": {},
   "outputs": [
    {
     "name": "stdout",
     "output_type": "stream",
     "text": [
      "h= 0.26666666666666666\n",
      "f0=   0.200, f1=   1.433, f2=   3.487,f3=   0.232\n",
      "I= 1.519170370370378\n",
      "et=   7.398%\n",
      "true err=   0.121\n",
      "-2399.999999999997\n",
      "estimated err=   0.121\n",
      "3.3333334081842025e-07\n"
     ]
    }
   ],
   "source": [
    "# 19.5, Simpson's 3/8 Rule \n",
    "\n",
    "# 19.3 Simpson's 1/3 Rue \n",
    "\n",
    "a = 0.\n",
    "b = .8\n",
    "f = lambda x: 0.2 + 25.*x - 200.*x**2. + 675.*x**3. - 900.*x**4. + 400.*x**5.\n",
    "\n",
    "n = 3\n",
    "\n",
    "h = (b-a)/n\n",
    "print('h=',h)\n",
    "f0 = f(a)\n",
    "f1 = f(a+h)\n",
    "f2 = f(a+2*h)\n",
    "f3 = f(a+3*h)\n",
    "print('f0={0:8.3f}, f1={1:8.3f}, f2={2:8.3f},f3={3:8.3f}'.format(f0,f1,f2,f3))\n",
    "\n",
    "I = h * (f0 + 3.*f1 + 3.*f2 + f3)*3./8.\n",
    "print('I=',I)\n",
    "\n",
    "et = np.abs(I- Ie)/Ie * 100\n",
    "print('et={0:8.3f}%'.format(et))\n",
    "\n",
    "err  =Ie - I \n",
    "print('true err={0:8.3f}'.format(err))\n",
    "\n",
    "\n",
    "# the error is proportional to the fourth derivative.\n",
    "df = lambda x: 25. - 400.*x + 3*675.*x**2. - 3600.*x**3 + 2000.*x**4. \n",
    "ddf = lambda x: -400. + 6*675.*x - 3600.*3.*x**2. + 8000.*x**3.\n",
    "dddf = lambda x: 6*675. - 3600.*6.*x + 24000.*x**2.\n",
    "ddddf = lambda x: - 3600.*6. + 48000.*x\n",
    "\n",
    "\n",
    "# average of the second derivative over the interval [a,b]\n",
    "x = np.linspace(a,b,101)\n",
    "I_ddddf = np.trapz(ddddf(x),x)\n",
    "ddddf_bar = I_ddddf/(b-a)\n",
    "print(ddddf_bar)\n",
    "\n",
    "err_truncation = -3./80. * ddddf_bar * h**5.\n",
    "print('estimated err={0:8.3f}'.format(err_truncation))\n",
    "\n",
    "# err_truncation is almost the same to the true error. \n",
    "# The difference between the two errors is within 1e-7.\n",
    "# This is because this example deals with a fifth-order polynomial. \n",
    "print(err_truncation - err)\n",
    "\n",
    "\n",
    "\n",
    "\n"
   ]
  },
  {
   "cell_type": "code",
   "execution_count": null,
   "metadata": {},
   "outputs": [],
   "source": []
  }
 ],
 "metadata": {
  "kernelspec": {
   "display_name": "Python 3",
   "language": "python",
   "name": "python3"
  },
  "language_info": {
   "codemirror_mode": {
    "name": "ipython",
    "version": 3
   },
   "file_extension": ".py",
   "mimetype": "text/x-python",
   "name": "python",
   "nbconvert_exporter": "python",
   "pygments_lexer": "ipython3",
   "version": "3.9.6"
  }
 },
 "nbformat": 4,
 "nbformat_minor": 2
}
