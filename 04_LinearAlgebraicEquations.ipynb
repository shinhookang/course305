{
 "cells": [
  {
   "cell_type": "markdown",
   "metadata": {},
   "source": [
    "# Linear Algebraic Equations and Matrices (Ch. 8)\n",
    "\n"
   ]
  },
  {
   "cell_type": "code",
   "execution_count": 1,
   "metadata": {},
   "outputs": [],
   "source": [
    "import numpy as np \n"
   ]
  },
  {
   "cell_type": "code",
   "execution_count": 9,
   "metadata": {},
   "outputs": [
    {
     "name": "stdout",
     "output_type": "stream",
     "text": [
      "solution x=\n",
      " [[41.202]\n",
      " [55.917]\n",
      " [71.613]]\n"
     ]
    }
   ],
   "source": [
    "# Example 8.2\n",
    "\n",
    "A = np.matrix(' 150 -100 0; \\\n",
    "               -100 150 -50; \\\n",
    "                 0  -50  50')\n",
    "b = np.matrix(' 588.6; 686.7; 784.8 ')\n",
    "\n",
    "x = np.linalg.solve(A,b)\n",
    "print('solution x=\\n',x)\n"
   ]
  },
  {
   "cell_type": "code",
   "execution_count": 13,
   "metadata": {},
   "outputs": [
    {
     "name": "stdout",
     "output_type": "stream",
     "text": [
      "residual =  [[-7.10542736e-15]\n",
      " [ 0.00000000e+00]\n",
      " [ 0.00000000e+00]]\n"
     ]
    }
   ],
   "source": [
    "# sanity check\n",
    "residual = x - np.linalg.inv(A)*b\n",
    "print('residual = ',residual)"
   ]
  },
  {
   "cell_type": "code",
   "execution_count": 14,
   "metadata": {},
   "outputs": [
    {
     "name": "stdout",
     "output_type": "stream",
     "text": [
      "solution x=\n",
      " [41.202 55.917 71.613]\n"
     ]
    }
   ],
   "source": [
    "# Use Numpy array \n",
    "A = np.array([[150,-100,0],\\\n",
    "              [-100, 150, -50],\\\n",
    "              [0, -50, 50]])\n",
    "b = np.array([588.6, 686.7, 784.8 ])\n",
    "\n",
    "x = np.linalg.solve(A,b)\n",
    "print('solution x=\\n',x)\n"
   ]
  },
  {
   "cell_type": "code",
   "execution_count": null,
   "metadata": {},
   "outputs": [],
   "source": []
  }
 ],
 "metadata": {
  "kernelspec": {
   "display_name": "Python 3",
   "language": "python",
   "name": "python3"
  },
  "language_info": {
   "codemirror_mode": {
    "name": "ipython",
    "version": 3
   },
   "file_extension": ".py",
   "mimetype": "text/x-python",
   "name": "python",
   "nbconvert_exporter": "python",
   "pygments_lexer": "ipython3",
   "version": "3.9.6"
  }
 },
 "nbformat": 4,
 "nbformat_minor": 2
}
