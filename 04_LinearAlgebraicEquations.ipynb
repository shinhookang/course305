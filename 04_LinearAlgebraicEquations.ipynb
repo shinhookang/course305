{
 "cells": [
  {
   "cell_type": "markdown",
   "metadata": {},
   "source": [
    "# Linear Algebraic Equations and Matrices (Ch. 8)\n",
    "\n"
   ]
  },
  {
   "cell_type": "markdown",
   "metadata": {},
   "source": [
    "## Solving a Linear System of Equations\n",
    "\n",
    "$$ Ax = b $$\n",
    "\n",
    "* Use Python built-in function ```np.linalg.solve```"
   ]
  },
  {
   "cell_type": "code",
   "execution_count": 1,
   "metadata": {},
   "outputs": [],
   "source": [
    "import numpy as np \n"
   ]
  },
  {
   "cell_type": "code",
   "execution_count": 9,
   "metadata": {},
   "outputs": [
    {
     "name": "stdout",
     "output_type": "stream",
     "text": [
      "solution x=\n",
      " [[41.202]\n",
      " [55.917]\n",
      " [71.613]]\n"
     ]
    }
   ],
   "source": [
    "# Example 8.2\n",
    "\n",
    "A = np.matrix(' 150 -100 0; \\\n",
    "               -100 150 -50; \\\n",
    "                 0  -50  50')\n",
    "b = np.matrix(' 588.6; 686.7; 784.8 ')\n",
    "\n",
    "x = np.linalg.solve(A,b)\n",
    "print('solution x=\\n',x)\n"
   ]
  },
  {
   "cell_type": "code",
   "execution_count": 13,
   "metadata": {},
   "outputs": [
    {
     "name": "stdout",
     "output_type": "stream",
     "text": [
      "residual =  [[-7.10542736e-15]\n",
      " [ 0.00000000e+00]\n",
      " [ 0.00000000e+00]]\n"
     ]
    }
   ],
   "source": [
    "# sanity check\n",
    "residual = x - np.linalg.inv(A)*b\n",
    "print('residual = ',residual)"
   ]
  },
  {
   "cell_type": "code",
   "execution_count": 14,
   "metadata": {},
   "outputs": [
    {
     "name": "stdout",
     "output_type": "stream",
     "text": [
      "solution x=\n",
      " [41.202 55.917 71.613]\n"
     ]
    }
   ],
   "source": [
    "# Use Numpy array \n",
    "A = np.array([[150,-100,0],\\\n",
    "              [-100, 150, -50],\\\n",
    "              [0, -50, 50]])\n",
    "b = np.array([588.6, 686.7, 784.8 ])\n",
    "\n",
    "x = np.linalg.solve(A,b)\n",
    "print('solution x=\\n',x)\n"
   ]
  },
  {
   "cell_type": "markdown",
   "metadata": {},
   "source": [
    "## Case Study 8.3: Currents and Vortages in Circuits\n",
    "\n",
    "\n",
    "**Kirchoff's current law** \n",
    "\n",
    "Sum of all the currents entering a node must be zero, \n",
    "$$ \\sum i = 0 $$\n",
    "where $i$ is current. \n",
    "\n",
    "**Ohm's law**\n",
    "\n",
    "The electric current through a conductor between two points is directly proportional to the voltage across the two points.\n",
    "$$ V = IR $$ \n",
    "where $V$ is the voltage; $I$ is the current; and $R$ is the registance. "
   ]
  },
  {
   "cell_type": "code",
   "execution_count": 22,
   "metadata": {},
   "outputs": [
    {
     "name": "stdout",
     "output_type": "stream",
     "text": [
      "solution x=\n",
      " [169.23076923 153.84615385 146.15384615 123.07692308]\n",
      "i12 =  6.153846153846155\n",
      "i23 =  1.5384615384615359\n",
      "i25 =  4.615384615384616\n",
      "i34 =  1.5384615384615414\n",
      "i45 =  1.5384615384615397\n",
      "i56 =  6.153846153846153\n"
     ]
    }
   ],
   "source": [
    "# Figure 8.8\n",
    "\n",
    "# V1, V6 are given\n",
    "# R12, R23, R34, R45, R56, R25 are given.\n",
    "# Find the vortages at node2, node3, node4, node5\n",
    "\n",
    "V1 = 200.0\n",
    "V6 = 0.0\n",
    "\n",
    "R12 = 5.0\n",
    "R23 = 10.0\n",
    "R34 = 5.0\n",
    "R45 = 15.0\n",
    "R56 = 20.0\n",
    "R25 = 10.0\n",
    "\n",
    "# Entries of A \n",
    "a11 = 1.0/R12 + 1.0/R23 + 1.0/R25 \n",
    "a12 = - 1.0/R23 \n",
    "a13 = 0.0\n",
    "a14 = -1.0/R25\n",
    "\n",
    "a21 = -1.0/R23 \n",
    "a22 = 1.0/R23 + 1.0/R34 \n",
    "a23 = -1.0/R34 \n",
    "a24 = 0.0\n",
    "\n",
    "a31 = 0.0\n",
    "a32 = -1.0/R34 \n",
    "a33 = 1.0/R34 + 1.0/R45 \n",
    "a34 = -1.0/R45 \n",
    "\n",
    "a41 = -1.0/R25 \n",
    "a42 = 0.0\n",
    "a43 = -1.0/R45 \n",
    "a44 = 1.0/R25 + 1.0/R45 + 1.0/R56\n",
    "\n",
    "# b\n",
    "b1 = V1/R12 \n",
    "b2 = 0.0\n",
    "b3 = 0.0\n",
    "b4 = V6/R56 \n",
    "\n",
    "# construct A and b \n",
    "A = np.array([  [a11,a12,a13,a14],\\\n",
    "                [a21,a22,a23,a24],\\\n",
    "                [a31,a32,a33,a34],\\\n",
    "                [a41,a42,a43,a44]])\n",
    "b = np.array([b1,b2,b3,b4])\n",
    "\n",
    "x = np.linalg.solve(A,b)\n",
    "print('solution x=\\n',x)\n",
    "\n",
    "# voltages \n",
    "V2 = x[0]\n",
    "V3 = x[1]\n",
    "V4 = x[2]\n",
    "V5 = x[3]\n",
    "\n",
    "# currents\n",
    "i12 = (V1 - V2)/R12 \n",
    "i23 = (V2 - V3)/R23\n",
    "i25 = (V2 - V5)/R25 \n",
    "i34 = (V3 - V4)/R34 \n",
    "i45 = (V4 - V5)/R45 \n",
    "i56 = (V5 - V6)/R56 \n",
    "\n",
    "print('i12 = ',i12)\n",
    "print('i23 = ',i23)\n",
    "print('i25 = ',i25)\n",
    "print('i34 = ',i34)\n",
    "print('i45 = ',i45)\n",
    "print('i56 = ',i56)"
   ]
  },
  {
   "cell_type": "code",
   "execution_count": null,
   "metadata": {},
   "outputs": [],
   "source": []
  }
 ],
 "metadata": {
  "kernelspec": {
   "display_name": "Python 3",
   "language": "python",
   "name": "python3"
  },
  "language_info": {
   "codemirror_mode": {
    "name": "ipython",
    "version": 3
   },
   "file_extension": ".py",
   "mimetype": "text/x-python",
   "name": "python",
   "nbconvert_exporter": "python",
   "pygments_lexer": "ipython3",
   "version": "3.9.6"
  }
 },
 "nbformat": 4,
 "nbformat_minor": 2
}
