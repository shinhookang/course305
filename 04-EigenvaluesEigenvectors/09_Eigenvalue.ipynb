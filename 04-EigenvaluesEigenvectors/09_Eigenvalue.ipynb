{
 "cells": [
  {
   "cell_type": "markdown",
   "metadata": {},
   "source": [
    "# Eigenvalues and Eigenvectors (Ch. 13)\n",
    "\n"
   ]
  },
  {
   "cell_type": "code",
   "execution_count": 1,
   "metadata": {},
   "outputs": [],
   "source": [
    "import numpy as np "
   ]
  },
  {
   "cell_type": "code",
   "execution_count": 16,
   "metadata": {},
   "outputs": [
    {
     "name": "stdout",
     "output_type": "stream",
     "text": [
      "--------- \n",
      "iter = 1  \n",
      "--------- \n",
      "Ax= [25. 16. 18.]\n",
      "max(Ax)= 25.0\n",
      "x1= [1.   0.64 0.72]\n",
      "--------- \n",
      "iter = 2  \n",
      "--------- \n",
      "Ax= [23.36 11.64 13.2 ]\n",
      "max(Ax)= 23.360000000000003\n",
      "x2= [1.         0.49828767 0.56506849]\n",
      "--------- \n",
      "iter = 3  \n",
      "--------- \n",
      "Ax= [22.625       9.74486301 10.7739726 ]\n",
      "max(Ax)= 22.625\n",
      "x3= [1.         0.43071218 0.47619768]\n"
     ]
    }
   ],
   "source": [
    "# problem 13.1\n",
    "A = np.array([[20., 3., 2.], [3., 9., 4.], [2., 4., 12.]])\n",
    "x0 = np.array([1., 1., 1.])\n",
    "\n",
    "# iteration = 1\n",
    "print('--------- ')\n",
    "print('iter = 1  ')\n",
    "print('--------- ')\n",
    "print('Ax=', A@x0)\n",
    "print('max(Ax)=', np.max(A@x0))\n",
    "x1 = (A@x0)/np.max(A@x0)\n",
    "print('x1=', x1)\n",
    "\n",
    "\n",
    "# iteration = 2\n",
    "print('--------- ')\n",
    "print('iter = 2  ')\n",
    "print('--------- ')\n",
    "print('Ax=', A@x1)\n",
    "print('max(Ax)=', np.max(A@x1))\n",
    "x2 = (A@x1)/np.max(A@x1)\n",
    "print('x2=', x2) \n",
    "\n",
    "# iteration = 3\n",
    "print('--------- ')\n",
    "print('iter = 3  ')\n",
    "print('--------- ')\n",
    "print('Ax=', A@x2)\n",
    "print('max(Ax)=', np.max(A@x2))\n",
    "x3 = (A@x2)/np.max(A@x2)\n",
    "print('x3=', x3) \n"
   ]
  },
  {
   "cell_type": "code",
   "execution_count": 18,
   "metadata": {},
   "outputs": [
    {
     "name": "stdout",
     "output_type": "stream",
     "text": [
      "[[ 0.05275229 -0.01605505 -0.00344037]\n",
      " [-0.01605505  0.1353211  -0.04243119]\n",
      " [-0.00344037 -0.04243119  0.09805046]]\n",
      "--------- \n",
      "iter = 1  \n",
      "--------- \n",
      "Ax= [0.03325688 0.07683486 0.0521789 ]\n",
      "max(Ax)= 0.0768348623853211\n",
      "x1= [0.43283582 1.         0.67910448]\n",
      "--------- \n",
      "iter = 2  \n",
      "--------- \n",
      "Ax= [0.00444167 0.09955669 0.0226662 ]\n",
      "max(Ax)= 0.09955668903190468\n",
      "x2= [0.04461446 1.         0.22767128]\n",
      "--------- \n",
      "iter = 3  \n",
      "--------- \n",
      "Ax= [-0.0144848   0.12494445 -0.02026141]\n",
      "max(Ax)= 0.1249444497897077\n",
      "x3= [-0.11592995  1.         -0.16216334]\n"
     ]
    }
   ],
   "source": [
    "# problem 13.1\n",
    "A = np.array([[20., 3., 2.], [3., 9., 4.], [2., 4., 12.]])\n",
    "A = np.linalg.inv(A)\n",
    "x0 = np.array([1., 1., 1.])\n",
    "print(A)\n",
    "\n",
    "# iteration = 1\n",
    "print('--------- ')\n",
    "print('iter = 1  ')\n",
    "print('--------- ')\n",
    "print('Ax=', A@x0)\n",
    "print('max(Ax)=', np.max(A@x0))\n",
    "x1 = (A@x0)/np.max(A@x0)\n",
    "print('x1=', x1)\n",
    "\n",
    "\n",
    "# iteration = 2\n",
    "print('--------- ')\n",
    "print('iter = 2  ')\n",
    "print('--------- ')\n",
    "print('Ax=', A@x1)\n",
    "print('max(Ax)=', np.max(A@x1))\n",
    "x2 = (A@x1)/np.max(A@x1)\n",
    "print('x2=', x2) \n",
    "\n",
    "# iteration = 3\n",
    "print('--------- ')\n",
    "print('iter = 3  ')\n",
    "print('--------- ')\n",
    "print('Ax=', A@x2)\n",
    "print('max(Ax)=', np.max(A@x2))\n",
    "x3 = (A@x2)/np.max(A@x2)\n",
    "print('x3=', x3) \n"
   ]
  },
  {
   "cell_type": "code",
   "execution_count": 19,
   "metadata": {},
   "outputs": [
    {
     "data": {
      "text/plain": [
       "8.00640512409928"
      ]
     },
     "execution_count": 19,
     "metadata": {},
     "output_type": "execute_result"
    }
   ],
   "source": [
    "1.0/0.1249"
   ]
  },
  {
   "cell_type": "code",
   "execution_count": 38,
   "metadata": {},
   "outputs": [
    {
     "name": "stdout",
     "output_type": "stream",
     "text": [
      "[  -3.98993323 -302.01006677]\n",
      "[[ 0.94772493 -0.01010015]\n",
      " [ 0.31908849  0.99994899]]\n"
     ]
    }
   ],
   "source": [
    "# problem 13.13\n",
    "A = np.array([[-5., 3.],[100., -301.]])\n",
    "eigval,eigvec = np.linalg.eig(A)\n",
    "print(eigval)\n",
    "print(eigvec)"
   ]
  },
  {
   "cell_type": "code",
   "execution_count": 34,
   "metadata": {},
   "outputs": [
    {
     "data": {
      "text/plain": [
       "array([-302.01006677,   -3.98993323])"
      ]
     },
     "execution_count": 34,
     "metadata": {},
     "output_type": "execute_result"
    }
   ],
   "source": [
    "coeff = [1., 306., 1205.]\n",
    "np.roots(coeff)\n"
   ]
  },
  {
   "cell_type": "code",
   "execution_count": 35,
   "metadata": {},
   "outputs": [
    {
     "name": "stdout",
     "output_type": "stream",
     "text": [
      "[ 19.02089999 100.20022902]\n"
     ]
    }
   ],
   "source": [
    "# problem 13.13\n",
    "A = np.array([[0.9477, 0.3191],[-0.01, 0.9999]])\n",
    "b = np.array([50., 100.])\n",
    "x = np.linalg.solve(A,b)\n",
    "print(x)\n"
   ]
  },
  {
   "cell_type": "code",
   "execution_count": 39,
   "metadata": {},
   "outputs": [
    {
     "data": {
      "text/plain": [
       "array([18.025254,  6.069282])"
      ]
     },
     "execution_count": 39,
     "metadata": {},
     "output_type": "execute_result"
    }
   ],
   "source": [
    "19.02*np.array([0.9477, 0.3191])"
   ]
  },
  {
   "cell_type": "code",
   "execution_count": 40,
   "metadata": {},
   "outputs": [
    {
     "data": {
      "text/plain": [
       "array([ -1.002  , 100.18998])"
      ]
     },
     "execution_count": 40,
     "metadata": {},
     "output_type": "execute_result"
    }
   ],
   "source": [
    "100.2*np.array([-0.01, 0.9999])"
   ]
  },
  {
   "cell_type": "code",
   "execution_count": 50,
   "metadata": {},
   "outputs": [
    {
     "data": {
      "text/plain": [
       "<matplotlib.legend.Legend at 0x107c60c70>"
      ]
     },
     "execution_count": 50,
     "metadata": {},
     "output_type": "execute_result"
    },
    {
     "data": {
      "image/png": "[encoded data removed]",
      "text/plain": [
       "<Figure size 640x480 with 1 Axes>"
      ]
     },
     "metadata": {},
     "output_type": "display_data"
    }
   ],
   "source": [
    "t = np.linspace(0,1,100)\n",
    "y1 = 18.025 * np.exp(-3.9899*t) - 1.002 * np.exp(-302.01*t)\n",
    "y2 = 6.069 * np.exp(-3.9899*t) + 100.19 * np.exp(-302.01*t)\n",
    "\n",
    "import matplotlib.pyplot as plt\n",
    "plt.plot(t,y1,ls='-',label='y1')\n",
    "plt.plot(t,y2,ls='--',label='y2')\n",
    "plt.grid()\n",
    "plt.xlabel('t')\n",
    "plt.legend()"
   ]
  },
  {
   "cell_type": "code",
   "execution_count": null,
   "metadata": {},
   "outputs": [],
   "source": []
  }
 ],
 "metadata": {
  "kernelspec": {
   "display_name": "Python 3",
   "language": "python",
   "name": "python3"
  },
  "language_info": {
   "codemirror_mode": {
    "name": "ipython",
    "version": 3
   },
   "file_extension": ".py",
   "mimetype": "text/x-python",
   "name": "python",
   "nbconvert_exporter": "python",
   "pygments_lexer": "ipython3",
   "version": "3.9.6"
  }
 },
 "nbformat": 4,
 "nbformat_minor": 2
}
