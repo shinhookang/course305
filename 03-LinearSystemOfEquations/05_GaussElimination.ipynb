{
 "cells": [
  {
   "cell_type": "markdown",
   "metadata": {},
   "source": [
    "# Gauss Elimination (Ch. 9)\n",
    "\n"
   ]
  },
  {
   "cell_type": "markdown",
   "metadata": {},
   "source": [
    "## Crammer's Rule\n"
   ]
  },
  {
   "cell_type": "code",
   "execution_count": 28,
   "metadata": {},
   "outputs": [
    {
     "name": "stdout",
     "output_type": "stream",
     "text": [
      "solution x=\n",
      " [[-14.9]\n",
      " [-29.5]\n",
      " [ 19.8]]\n"
     ]
    }
   ],
   "source": [
    "import numpy as np \n",
    "\n",
    "# A = np.matrix(' 0.3, 0.52,  1.0;  \\\n",
    "#                 0.5, 1.0,  1.9;  \\\n",
    "#                 0.1,  0.3,   0.5; ')\n",
    "\n",
    "A = np.matrix(' 0.3 0.52  1.0;  \\\n",
    "                0.5 1.00  1.9;  \\\n",
    "                0.1  0.3  0.5 ')\n",
    "\n",
    "b = np.matrix('-0.01;  0.67;  -0.44')\n",
    "\n",
    "x = np.linalg.solve(A,b)\n",
    "print('solution x=\\n',x)\n"
   ]
  },
  {
   "cell_type": "code",
   "execution_count": 31,
   "metadata": {},
   "outputs": [],
   "source": [
    "A1 = np.array(A)\n",
    "b1 = np.array(b)\n",
    "A1[:,0] = b1[:,0]"
   ]
  },
  {
   "cell_type": "code",
   "execution_count": 33,
   "metadata": {},
   "outputs": [
    {
     "name": "stdout",
     "output_type": "stream",
     "text": [
      "A = \n",
      " [[0.3  0.52 1.  ]\n",
      " [0.5  1.   1.9 ]\n",
      " [0.1  0.3  0.5 ]]\n",
      "A1= \n",
      " [[-0.01  0.52  1.  ]\n",
      " [ 0.67  1.    1.9 ]\n",
      " [-0.44  0.3   0.5 ]]\n",
      "-14.899999999999983\n",
      "A = \n",
      " [[0.3  0.52 1.  ]\n",
      " [0.5  1.   1.9 ]\n",
      " [0.1  0.3  0.5 ]]\n",
      "A2= \n",
      " [[ 0.3  -0.01  1.  ]\n",
      " [ 0.5   0.67  1.9 ]\n",
      " [ 0.1  -0.44  0.5 ]]\n",
      "-29.500000000000032\n",
      "A = \n",
      " [[0.3  0.52 1.  ]\n",
      " [0.5  1.   1.9 ]\n",
      " [0.1  0.3  0.5 ]]\n",
      "A3= \n",
      " [[ 0.3   0.52 -0.01]\n",
      " [ 0.5   1.    0.67]\n",
      " [ 0.1   0.3  -0.44]]\n",
      "19.800000000000022\n"
     ]
    }
   ],
   "source": [
    "# determinant \n",
    "D = np.linalg.det(A)\n",
    "\n",
    "# convert matrix A and b to numpy arrays\n",
    "A = np.array(A)\n",
    "b = np.array(b)\n",
    "\n",
    "# substitute the first column of A with b\n",
    "A1 = np.copy(A)\n",
    "A1[:,0] = b[:,0]\n",
    "print('A = \\n',A)\n",
    "print('A1= \\n',A1)\n",
    "\n",
    "x1 = np.linalg.det(A1)/D\n",
    "print(x1)\n",
    "\n",
    "# substitute the second column of A with b\n",
    "A2 = np.copy(A)\n",
    "A2[:,1] = b[:,0]\n",
    "print('A = \\n',A)\n",
    "print('A2= \\n',A2)\n",
    "\n",
    "x2 = np.linalg.det(A2)/D\n",
    "print(x2)\n",
    "\n",
    "# substitute the second column of A with b\n",
    "A3 = np.copy(A)\n",
    "A3[:,2] = b[:,0]\n",
    "print('A = \\n',A)\n",
    "print('A3= \\n',A3)\n",
    "\n",
    "x3 = np.linalg.det(A3)/D\n",
    "print(x3)"
   ]
  },
  {
   "cell_type": "markdown",
   "metadata": {},
   "source": [
    "## Naive Gaussian Elimination"
   ]
  },
  {
   "cell_type": "code",
   "execution_count": 34,
   "metadata": {},
   "outputs": [],
   "source": [
    "# Figure 9.4 \n",
    "\n",
    "def gaussnaive(A,b):\n",
    "    (m,n) = A.shape\n",
    "    if m!=n:\n",
    "        return Exception('Matrix A should be square!')\n",
    "    nb = n + 1 # size of augmented matrix\n",
    "    # build augmented matrix\n",
    "    Aug = np.hstack((A,b))\n",
    "    print('Augmented matrix = ',Aug)\n",
    "    # 1. forward elimination\n",
    "    # we use (n-1) pivot equations, \n",
    "    for k in range(n-1): # k=0,1,...,n-2\n",
    "        # Aug[k,k] is the pivot element\n",
    "        # Aug[k,k:nb] is the pivot equation, (n-k+1) elements \n",
    "        for i in range(k+1,n): # (n-k-1) iteration \n",
    "            print(i)\n",
    "            factor = Aug[i,k] / Aug[k,k] # 1 division\n",
    "            Aug[i,k:nb] = Aug[i,k:nb] - factor * Aug[k,k:nb] # (n-k+1) multiplication and subtraction\n",
    "\n",
    "    # 2. back substitution\n",
    "    x = np.zeros([n,1])\n",
    "    x = np.matrix(x)\n",
    "    x[n-1] = Aug[n-1,nb-1]/ Aug[n-1,n-1]\n",
    "    for i in range(n-2,-1,-1): # n-2,n-3,...,2,1,0 => (n-1) iteration\n",
    "        x[i] = (Aug[i,nb-1]-Aug[i,i+1:n]*x[i+1:n,0])/Aug[i,i] # (n-i) multiplication, 1 division, 1 subtraction, (n-i-1)addition\n",
    "    return Aug, x"
   ]
  },
  {
   "cell_type": "code",
   "execution_count": 35,
   "metadata": {},
   "outputs": [
    {
     "name": "stdout",
     "output_type": "stream",
     "text": [
      "Augmented matrix =  [[ 0.3   0.52  1.   -0.01]\n",
      " [ 0.5   1.    1.9   0.67]\n",
      " [ 0.1   0.3   0.5  -0.44]]\n",
      "1\n",
      "2\n",
      "2\n",
      "[[ 0.3         0.52        1.         -0.01      ]\n",
      " [ 0.          0.13333333  0.23333333  0.68666667]\n",
      " [ 0.          0.         -0.055      -1.089     ]]\n"
     ]
    }
   ],
   "source": [
    "\n",
    "Aug, x = gaussnaive(A,b)\n",
    "print(Aug )"
   ]
  },
  {
   "cell_type": "markdown",
   "metadata": {},
   "source": [
    "## Gaussian Elimination with Pivot"
   ]
  },
  {
   "cell_type": "code",
   "execution_count": 36,
   "metadata": {},
   "outputs": [],
   "source": [
    "# Figure 9.6 \n",
    "\n",
    "def maxrow(avec):\n",
    "    maxrowIdx = 0\n",
    "    n = len(avec)\n",
    "    amax = abs(avec[0])\n",
    "    for i in range(1,n):\n",
    "        if (abs(avec[i])) > amax:\n",
    "            amax = avec[i]\n",
    "            maxrowIdx = i \n",
    "    return maxrowIdx\n",
    "\n",
    "def gausspivot(A,b):\n",
    "    (m,n) = A.shape\n",
    "    if m!=n:\n",
    "        return Exception('Matrix A should be square!')\n",
    "    nb = n + 1 # size of augmented matrix\n",
    "    # build augmented matrix\n",
    "    Aug = np.hstack((A,b))\n",
    "    print('Augmented matrix = ',Aug)\n",
    "    # 1. forward elimination\n",
    "    for k in range(n-1): \n",
    "        # Aug[k,k] is the pivot element\n",
    "        # Aug[k,k:nb] is the pivot equation\n",
    "        # partial pivoting\n",
    "        imax = maxrow(Aug[k:n,k])\n",
    "        ipr = imax + k\n",
    "        if ipr !=k: # no swap if pivot is max\n",
    "            for j in range(k,nb): # swap rows k and ipr \n",
    "                temp= Aug[k,j]\n",
    "                Aug[k,j] = Aug[ipr,j]\n",
    "                Aug[ipr,j] = temp\n",
    "        \n",
    "        for i in range(k+1,n):  \n",
    "            print(i)\n",
    "            factor = Aug[i,k] / Aug[k,k]  \n",
    "            Aug[i,k:nb] = Aug[i,k:nb] - factor * Aug[k,k:nb] \n",
    "\n",
    "    # 2. back substitution\n",
    "    x = np.zeros([n,1])\n",
    "    x = np.matrix(x)\n",
    "    x[n-1] = Aug[n-1,nb-1]/ Aug[n-1,n-1]\n",
    "    for i in range(n-2,-1,-1):\n",
    "        x[i] = (Aug[i,nb-1]-Aug[i,i+1:n]*x[i+1:n,0])/Aug[i,i]\n",
    "    return Aug, x"
   ]
  },
  {
   "cell_type": "code",
   "execution_count": 37,
   "metadata": {},
   "outputs": [
    {
     "name": "stdout",
     "output_type": "stream",
     "text": [
      "solution x=\n",
      " [[ 0.5942029 ]\n",
      " [-0.01449275]\n",
      " [ 0.56521739]]\n"
     ]
    }
   ],
   "source": [
    "A = np.matrix(' 0.0 -3.0  7.0;  \\\n",
    "                1.0  2.0  -1.0;  \\\n",
    "                5.0  -2.0  0.0 ')\n",
    "\n",
    "b = np.matrix('4;  0;  3')\n",
    "\n",
    "x = np.linalg.solve(A,b)\n",
    "print('solution x=\\n',x)"
   ]
  },
  {
   "cell_type": "code",
   "execution_count": 39,
   "metadata": {},
   "outputs": [
    {
     "name": "stdout",
     "output_type": "stream",
     "text": [
      "Augmented matrix =  [[ 0. -3.  7.  4.]\n",
      " [ 1.  2. -1.  0.]\n",
      " [ 5. -2.  0.  3.]]\n",
      "1\n",
      "2\n",
      "2\n",
      "[[  0.  -3.   7.   4.]\n",
      " [ nan  inf -inf -inf]\n",
      " [ nan  nan  nan  nan]]\n"
     ]
    },
    {
     "name": "stderr",
     "output_type": "stream",
     "text": [
      "/var/folders/hh/w5xjnck119d_h0x6gxztgrwr0000gn/T/ipykernel_53731/2691583130.py:18: RuntimeWarning: divide by zero encountered in scalar divide\n",
      "  factor = Aug[i,k] / Aug[k,k] # 1 division\n",
      "/var/folders/hh/w5xjnck119d_h0x6gxztgrwr0000gn/T/ipykernel_53731/2691583130.py:19: RuntimeWarning: invalid value encountered in multiply\n",
      "  Aug[i,k:nb] = Aug[i,k:nb] - factor * Aug[k,k:nb] # (n-k+1) multiplication and subtraction\n",
      "/var/folders/hh/w5xjnck119d_h0x6gxztgrwr0000gn/T/ipykernel_53731/2691583130.py:18: RuntimeWarning: invalid value encountered in scalar divide\n",
      "  factor = Aug[i,k] / Aug[k,k] # 1 division\n"
     ]
    }
   ],
   "source": [
    "Aug, x = gaussnaive(A,b)\n",
    "print(Aug )"
   ]
  },
  {
   "cell_type": "code",
   "execution_count": 38,
   "metadata": {},
   "outputs": [
    {
     "name": "stdout",
     "output_type": "stream",
     "text": [
      "Augmented matrix =  [[ 0. -3.  7.  4.]\n",
      " [ 1.  2. -1.  0.]\n",
      " [ 5. -2.  0.  3.]]\n",
      "1\n",
      "2\n",
      "2\n",
      "[[ 5.  -2.   0.   3. ]\n",
      " [ 0.  -3.   7.   4. ]\n",
      " [ 0.   0.   4.6  2.6]]\n",
      "[[ 0.5942029 ]\n",
      " [-0.01449275]\n",
      " [ 0.56521739]]\n"
     ]
    }
   ],
   "source": [
    "Aug,x = gausspivot(A,b)\n",
    "\n",
    "print(Aug)\n",
    "print(x)"
   ]
  },
  {
   "cell_type": "markdown",
   "metadata": {},
   "source": [
    "## Thomas Algorithm"
   ]
  },
  {
   "cell_type": "code",
   "execution_count": 52,
   "metadata": {},
   "outputs": [],
   "source": [
    "# Figure 9.7\n",
    "\n",
    "def tridiag(e,f,g,r):\n",
    "    n = len(f)\n",
    "    #forward elimination\n",
    "    x = np.zeros([n])\n",
    "    for k in range(1,n):\n",
    "        factor = e[k]/f[k-1]\n",
    "        f[k] = f[k] - factor*g[k-1]\n",
    "        r[k] = r[k] - factor*r[k-1]\n",
    "    # back substitution\n",
    "    x[n-1] = r[n-1]/f[n-1]\n",
    "    for k in range(n-2,-1,-1):\n",
    "        x[k] = ( r[k] - g[k] * x[k+1] ) / f[k]\n",
    "\n",
    "    return x"
   ]
  },
  {
   "cell_type": "code",
   "execution_count": 43,
   "metadata": {},
   "outputs": [
    {
     "name": "stdout",
     "output_type": "stream",
     "text": [
      "solution x=\n",
      " [[ 65.96983437]\n",
      " [ 93.77846211]\n",
      " [124.53822833]\n",
      " [159.47952369]]\n"
     ]
    }
   ],
   "source": [
    "A = np.matrix(' 2.04  -1.0   0.0  0.0;  \\\n",
    "                -1.0  2.04  -1.0  0.0;  \\\n",
    "                0.0   -1.0  2.04  -1.0; \\\n",
    "                0.0    0.0  -1.0  2.04')\n",
    "\n",
    "b = np.matrix('40.8;  0.8;  0.8;   200.8')\n",
    "\n",
    "x = np.linalg.solve(A,b)\n",
    "print('solution x=\\n',x)"
   ]
  },
  {
   "cell_type": "code",
   "execution_count": 55,
   "metadata": {},
   "outputs": [
    {
     "name": "stdout",
     "output_type": "stream",
     "text": [
      "[ 65.96983437  93.77846211 124.53822833 159.47952369]\n"
     ]
    }
   ],
   "source": [
    "e = -np.ones([4]) # 3 elements\n",
    "g = -np.ones([4]) # 3 elements\n",
    "f = np.ones([4])*2.04 # 4 elements\n",
    "r = np.squeeze(np.array(b)) # 4 elements\n",
    "\n",
    "x = tridiag(e,f,g,r)\n",
    "print(x)\n"
   ]
  }
 ],
 "metadata": {
  "kernelspec": {
   "display_name": "Python 3",
   "language": "python",
   "name": "python3"
  },
  "language_info": {
   "codemirror_mode": {
    "name": "ipython",
    "version": 3
   },
   "file_extension": ".py",
   "mimetype": "text/x-python",
   "name": "python",
   "nbconvert_exporter": "python",
   "pygments_lexer": "ipython3",
   "version": "3.9.6"
  }
 },
 "nbformat": 4,
 "nbformat_minor": 2
}
