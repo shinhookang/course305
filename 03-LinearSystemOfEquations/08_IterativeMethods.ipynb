{
 "cells": [
  {
   "cell_type": "markdown",
   "metadata": {},
   "source": [
    "# Iterative Methods (Ch. 12)\n",
    "\n"
   ]
  },
  {
   "cell_type": "markdown",
   "metadata": {},
   "source": [
    "Use Numpy function for computing the inverse matrix\n",
    "```np.linalg.inv```\n"
   ]
  },
  {
   "cell_type": "code",
   "execution_count": 11,
   "metadata": {},
   "outputs": [
    {
     "name": "stdout",
     "output_type": "stream",
     "text": [
      "A = \n",
      " [[ 3.  -0.1 -0.2]\n",
      " [ 0.1  7.  -0.3]\n",
      " [ 0.3 -0.2 10. ]]\n",
      "b = \n",
      " [  7.85 -19.3   71.4 ]\n",
      "solution = \n",
      " [ 3.  -2.5  7. ]\n"
     ]
    }
   ],
   "source": [
    "import numpy as np\n",
    "\n",
    "A = np.array([[3, -0.1, -0.2],  \n",
    "              [0.1, 7, -0.3], \n",
    "              [0.3, -0.2, 10]])\n",
    "\n",
    "b = np.array([7.85, -19.3, 71.4])\n",
    "x_sol = np.linalg.solve(A,b)\n",
    "\n",
    "print('A = \\n', A)\n",
    "print('b = \\n', b)\n",
    "print('solution = \\n', x_sol)\n"
   ]
  },
  {
   "cell_type": "code",
   "execution_count": 15,
   "metadata": {},
   "outputs": [
    {
     "name": "stdout",
     "output_type": "stream",
     "text": [
      "m=3, n=3\n",
      "L = \n",
      " [[ 0.   0.   0. ]\n",
      " [ 0.1  0.   0. ]\n",
      " [ 0.3 -0.2  0. ]]\n",
      "D = \n",
      " [[ 3.  0.  0.]\n",
      " [ 0.  7.  0.]\n",
      " [ 0.  0. 10.]]\n",
      "U = \n",
      " [[ 0.  -0.1 -0.2]\n",
      " [ 0.   0.  -0.3]\n",
      " [ 0.   0.   0. ]]\n"
     ]
    }
   ],
   "source": [
    "# Decompose A into L + D + U matrices\n",
    "m,n = A.shape\n",
    "print('m={}, n={}'.format(m,n))\n",
    "L = np.zeros([m,n])\n",
    "D = np.zeros([m,n])\n",
    "U = np.zeros([m,n])\n",
    "for i in range(m):\n",
    "    L[i,0:i] = A[i,0:i]\n",
    "    D[i,i] = A[i,i]\n",
    "    U[i,i+1:] = A[i,i+1:]\n",
    "\n",
    "print('L = \\n', L)\n",
    "print('D = \\n', D)\n",
    "print('U = \\n', U)\n",
    "\n",
    "\n"
   ]
  },
  {
   "cell_type": "markdown",
   "metadata": {},
   "source": [
    "The condition number measures \n",
    " how much the output value can change for a small change in the input argument."
   ]
  },
  {
   "cell_type": "code",
   "execution_count": 19,
   "metadata": {},
   "outputs": [
    {
     "name": "stdout",
     "output_type": "stream",
     "text": [
      "1st iteration =  [ 2.61666667 -2.79452381  7.00560952]\n",
      "2nd iteration =  [ 2.99055651 -2.49962468  7.00029081]\n"
     ]
    }
   ],
   "source": [
    "# Gauss-Seidel\n",
    "\n",
    "# - - - - 1st iteration - - - - \n",
    "# initial condition\n",
    "x0 = np.zeros([n])\n",
    "\n",
    "lhs = L + D\n",
    "rhs = b - U.dot(x0)\n",
    "x1 = np.linalg.solve(lhs,rhs)\n",
    "print('1st iteration = ', x1)\n",
    "\n",
    "# - - - - 2nd iteration - - - - \n",
    "\n",
    "lhs = L + D\n",
    "rhs = b - U.dot(x1)\n",
    "x2 = np.linalg.solve(lhs,rhs)\n",
    "print('2nd iteration = ', x2)\n"
   ]
  },
  {
   "cell_type": "code",
   "execution_count": 22,
   "metadata": {},
   "outputs": [
    {
     "name": "stdout",
     "output_type": "stream",
     "text": [
      "         2  12.5023499899631 11.7977361365069  0.0759784541430\n"
     ]
    }
   ],
   "source": [
    "# error computation\n",
    "ea2 = abs((x2 - x1)/x2) * 100 \n",
    "print('{0:10d}  {1:16.13f} {2:16.13f} {3:16.13f}'.format(2,ea2[0],ea2[1],ea2[2]))\n"
   ]
  },
  {
   "cell_type": "code",
   "execution_count": null,
   "metadata": {},
   "outputs": [],
   "source": []
  }
 ],
 "metadata": {
  "kernelspec": {
   "display_name": "Python 3",
   "language": "python",
   "name": "python3"
  },
  "language_info": {
   "codemirror_mode": {
    "name": "ipython",
    "version": 3
   },
   "file_extension": ".py",
   "mimetype": "text/x-python",
   "name": "python",
   "nbconvert_exporter": "python",
   "pygments_lexer": "ipython3",
   "version": "3.9.6"
  }
 },
 "nbformat": 4,
 "nbformat_minor": 2
}
