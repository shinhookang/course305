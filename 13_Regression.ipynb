{
 "cells": [
  {
   "cell_type": "markdown",
   "metadata": {},
   "source": [
    "# Regression (Ch. 14)\n",
    "\n"
   ]
  },
  {
   "cell_type": "code",
   "execution_count": 1,
   "metadata": {},
   "outputs": [],
   "source": [
    "import numpy as np \n",
    "import matplotlib as mpl\n",
    "import matplotlib.pyplot as plt \n",
    "\n"
   ]
  },
  {
   "cell_type": "code",
   "execution_count": 23,
   "metadata": {},
   "outputs": [
    {
     "name": "stdout",
     "output_type": "stream",
     "text": [
      "[6.495 6.595 6.615 6.635 6.485 6.555 6.665 6.505 6.435 6.625 6.715 6.655\n",
      " 6.755 6.625 6.715 6.575 6.655 6.605 6.565 6.515 6.555 6.395 6.775 6.685]\n"
     ]
    }
   ],
   "source": [
    "# example 14.1, Sample Statistics \n",
    "\n",
    "ydata = np.array([6.495, 6.595, 6.615, 6.635, 6.485, 6.555, 6.665, 6.505, 6.435, 6.625, 6.715, 6.655, 6.755, 6.625, 6.715, 6.575, 6.655, 6.605, 6.565, 6.515, 6.555, 6.395, 6.775, 6.685 ])\n",
    "\n",
    "print(ydata)"
   ]
  },
  {
   "cell_type": "code",
   "execution_count": 31,
   "metadata": {},
   "outputs": [
    {
     "name": "stdout",
     "output_type": "stream",
     "text": [
      "mean of y =  6.6000000000000005\n",
      "# of ydata =  24\n",
      "sum of y =  158.4\n",
      "mean of y =  6.6000000000000005\n"
     ]
    }
   ],
   "source": [
    "# mean value\n",
    "ymean = np.mean(ydata)\n",
    "print('mean of y = ', np.mean(ydata))\n",
    "\n",
    "ndata = len(ydata)\n",
    "print('# of ydata = ',ndata )\n",
    "\n",
    "print('sum of y = ', np.sum(ydata))\n",
    "ybar = np.sum(ydata)/ndata\n",
    "print('mean of y = ', ybar)\n"
   ]
  },
  {
   "cell_type": "code",
   "execution_count": 30,
   "metadata": {},
   "outputs": [
    {
     "name": "stdout",
     "output_type": "stream",
     "text": [
      "[6.395 6.435 6.485 6.495 6.505 6.515 6.555 6.555 6.565 6.575 6.595 6.605\n",
      " 6.615 6.625 6.625 6.635 6.655 6.655 6.665 6.685 6.715 6.715 6.755 6.775]\n",
      "median =  6.61 6.61\n"
     ]
    }
   ],
   "source": [
    "# median \n",
    "# ndata = 24, even number -> average of items 12,13 from the sorted data \n",
    "ydata.sort()\n",
    "print(ydata)\n",
    "ytilde = np.sum(ydata[11:13])/2\n",
    "ytilde2 = np.mean(ydata[11:13])\n",
    "print('median = ', ytilde, ytilde2)"
   ]
  },
  {
   "cell_type": "code",
   "execution_count": 34,
   "metadata": {},
   "outputs": [
    {
     "name": "stdout",
     "output_type": "stream",
     "text": [
      "SST =  0.2170000000000003\n"
     ]
    }
   ],
   "source": [
    "# SST: the total (corrected) sum of squares\n",
    "SST = np.sum((ydata - ybar)**2.)\n",
    "print('SST = ', SST)"
   ]
  },
  {
   "cell_type": "code",
   "execution_count": 40,
   "metadata": {},
   "outputs": [
    {
     "name": "stdout",
     "output_type": "stream",
     "text": [
      "estimated variance = 0.009434782608695666\n",
      "estimated standard deviation =  0.09713280912593678\n",
      "coefficient of variation =  1.47170922918086\n"
     ]
    }
   ],
   "source": [
    "# estimated variance (sample variance)\n",
    "# Given n data, we compute SST by using the mean.\n",
    "# Thus we normalize SST by (n-1). \n",
    "sy2 = SST/(ndata - 1)\n",
    "print('estimated variance =', sy2)\n",
    "\n",
    "# estimated standard deviation\n",
    "sy = np.sqrt(sy2)\n",
    "print('estimated standard deviation = ', sy)\n",
    "\n",
    "# the coefficient of variation\n",
    "# =the ratio of the sample standard deviation to the sample mean estimate\n",
    "print('coefficient of variation = ', sy/ ybar * 100)"
   ]
  },
  {
   "cell_type": "code",
   "execution_count": null,
   "metadata": {},
   "outputs": [],
   "source": []
  },
  {
   "cell_type": "code",
   "execution_count": 55,
   "metadata": {},
   "outputs": [
    {
     "name": "stdout",
     "output_type": "stream",
     "text": [
      "[-0.215 -0.175 -0.125 -0.115 -0.105 -0.095 -0.055 -0.055 -0.045 -0.035\n",
      " -0.015 -0.005  0.005  0.015  0.015  0.025  0.045  0.045  0.055  0.075\n",
      "  0.105  0.105  0.145  0.165]\n",
      "[0.215 0.175 0.125 0.115 0.105 0.095 0.055 0.055 0.045 0.035 0.015 0.005\n",
      " 0.005 0.015 0.015 0.025 0.045 0.045 0.055 0.075 0.105 0.105 0.145 0.165]\n",
      "[0.005 0.005 0.015 0.015 0.015 0.025 0.035 0.045 0.045 0.045 0.055 0.055\n",
      " 0.055 0.075 0.095 0.105 0.105 0.105 0.115 0.125 0.145 0.165 0.175 0.215]\n",
      "MAD =  0.0815418828762055\n",
      "MAD (sc) =  0.081543122017809\n"
     ]
    }
   ],
   "source": [
    "# Median Absolute Deviation (MAD)\n",
    "print(ydata - ytilde)\n",
    "yy = np.abs(ydata - ytilde)\n",
    "print(yy)\n",
    "yy.sort()\n",
    "print(yy)\n",
    "MAD = np.mean(yy[11:13])/0.6745\n",
    "print('MAD = ', MAD)\n",
    "\n",
    "import scipy as sc \n",
    "MADsc = sc.stats.median_abs_deviation(ydata,scale='normal')\n",
    "print('MAD (sc) = ', MADsc)"
   ]
  },
  {
   "cell_type": "code",
   "execution_count": 112,
   "metadata": {},
   "outputs": [
    {
     "name": "stdout",
     "output_type": "stream",
     "text": [
      "hist =  [2 1 3 4 6 4 2 2]\n",
      "bin boundaries =  [6.39 6.44 6.49 6.54 6.59 6.64 6.69 6.74 6.79]\n"
     ]
    }
   ],
   "source": [
    "# histogram \n",
    "hist, bin_edges = np.histogram(ydata, bins=8, range=[6.39,6.79])\n",
    "print('hist = ', hist)\n",
    "print('bin boundaries = ', bin_edges)\n"
   ]
  },
  {
   "cell_type": "code",
   "execution_count": 113,
   "metadata": {},
   "outputs": [
    {
     "name": "stdout",
     "output_type": "stream",
     "text": [
      "bin_width =  0.04999999999999982\n",
      "8\n",
      "bin_center =  [6.415 6.465 6.515 6.565 6.615 6.665 6.715 6.765]\n"
     ]
    },
    {
     "data": {
      "text/plain": [
       "<BarContainer object of 8 artists>"
      ]
     },
     "execution_count": 113,
     "metadata": {},
     "output_type": "execute_result"
    },
    {
     "data": {
      "image/png": "[encoded data removed]",
      "text/plain": [
       "<Figure size 640x480 with 1 Axes>"
      ]
     },
     "metadata": {},
     "output_type": "display_data"
    }
   ],
   "source": [
    "# create a bar chart \n",
    "bin_width = bin_edges[1] - bin_edges[0]\n",
    "print('bin_width = ', bin_width)\n",
    "nhist = len(hist)\n",
    "print(nhist)\n",
    "bin_center = (bin_edges[1:] + bin_edges[0:-1])/2\n",
    "print('bin_center = ', bin_center)\n",
    "\n",
    "plt.bar(bin_center, hist, width=bin_width, color='w', edgecolor='k')"
   ]
  },
  {
   "cell_type": "code",
   "execution_count": 119,
   "metadata": {},
   "outputs": [],
   "source": [
    "# scaling PDF\n",
    "# sum of the histogram should be 1 \n",
    "# From P (y in [y_i,y_i+dy]) = n_i / n, \n",
    "# define empirical density f_i = P/dy \n",
    "# A probability density function (PDF) is the continuous version of the histogram with densities\n",
    "# To match n_i with PDF, we multply (n*dy) to PDF. "
   ]
  },
  {
   "cell_type": "code",
   "execution_count": 118,
   "metadata": {},
   "outputs": [
    {
     "name": "stdout",
     "output_type": "stream",
     "text": [
      "sample mean = 6.6000000000000005\n",
      "biased sample std =  0.09508767883730615\n"
     ]
    },
    {
     "data": {
      "text/plain": [
       "(array([2., 1., 3., 4., 6., 4., 2., 2.]),\n",
       " array([6.39, 6.44, 6.49, 6.54, 6.59, 6.64, 6.69, 6.74, 6.79]),\n",
       " <BarContainer object of 8 artists>)"
      ]
     },
     "execution_count": 118,
     "metadata": {},
     "output_type": "execute_result"
    },
    {
     "data": {
      "image/png": "[encoded data removed]",
      "text/plain": [
       "<Figure size 640x480 with 1 Axes>"
      ]
     },
     "metadata": {},
     "output_type": "display_data"
    }
   ],
   "source": [
    "# add normal distribution\n",
    "print('sample mean =', ybar)\n",
    "# np.sqrt(SST/(ndata - 1)) # corrected standard deviation (=unbiased sample variance)\n",
    "# np.sqrt(SST/(ndata)) # uncorrected standard deviation (=biased sample variance)\n",
    "ystd = np.std(ydata)\n",
    "print('biased sample std = ', ystd) # uncorrected standard deviation (=biased sample variance)\n",
    "x = np.linspace( 6.39, 6.79)\n",
    "y = sc.stats.norm.pdf(x,ybar,ystd)\n",
    "plt.plot(x,y*ndata*bin_width,color='k') # scaled PDF\n",
    "plt.bar(bin_center, hist, width=bin_width, color='w', edgecolor='k')\n",
    "plt.plot(x,y,color='r') # unscaled PDF\n",
    "plt.hist(ydata,bins=8,range=[6.39,6.79])"
   ]
  },
  {
   "cell_type": "code",
   "execution_count": null,
   "metadata": {},
   "outputs": [],
   "source": []
  }
 ],
 "metadata": {
  "kernelspec": {
   "display_name": "Python 3",
   "language": "python",
   "name": "python3"
  },
  "language_info": {
   "codemirror_mode": {
    "name": "ipython",
    "version": 3
   },
   "file_extension": ".py",
   "mimetype": "text/x-python",
   "name": "python",
   "nbconvert_exporter": "python",
   "pygments_lexer": "ipython3",
   "version": "3.12.3"
  }
 },
 "nbformat": 4,
 "nbformat_minor": 2
}
