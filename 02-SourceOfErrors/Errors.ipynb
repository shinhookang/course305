{
 "cells": [
  {
   "cell_type": "markdown",
   "metadata": {},
   "source": [
    "# Roundoff and Truncation Errors (Ch. 4)\n",
    "\n"
   ]
  },
  {
   "cell_type": "code",
   "execution_count": 4,
   "metadata": {},
   "outputs": [
    {
     "name": "stdout",
     "output_type": "stream",
     "text": [
      "3.141592653589793\n",
      "1.7976931348623157e+308\n",
      "-1.7976931348623157e+308\n",
      "2.220446049250313e-16\n"
     ]
    }
   ],
   "source": [
    "import math\n",
    "print(math.pi)\n",
    "\n",
    "import numpy as np\n",
    "print(np.finfo(float).max)\n",
    "print(np.finfo(float).min)\n",
    "print(np.finfo(float).eps)"
   ]
  },
  {
   "cell_type": "markdown",
   "metadata": {},
   "source": [
    "## Error Definition\n",
    "\n",
    "Numerical error is defined as the difference between the true solution and its approximation.\n",
    " "
   ]
  },
  {
   "cell_type": "markdown",
   "metadata": {},
   "source": [
    "Ex 4.1\n",
    "\n",
    "\n",
    "Maclaurin seires exapansion of the exponential function\n",
    "$$ e^x \\approx 1 + x + \\frac{x^2}{2!} + \\frac{x^3}{3!} + \\cdots + \\frac{x^n}{n!} = \\sum_{i=0}^n \\frac{x^i}{i!}$$"
   ]
  },
  {
   "cell_type": "code",
   "execution_count": 96,
   "metadata": {},
   "outputs": [
    {
     "name": "stdout",
     "output_type": "stream",
     "text": [
      "es=     0.05%\n"
     ]
    }
   ],
   "source": [
    "# stopping criterion (Scarborough, 1966)\n",
    "esf = lambda n: (0.5 * 10**(2-n)) \n",
    "\n",
    "# 3 digits \n",
    "es = esf(3)\n",
    "print('es= {0:8.2f}%'.format(es))"
   ]
  },
  {
   "cell_type": "code",
   "execution_count": 116,
   "metadata": {},
   "outputs": [
    {
     "name": "stdout",
     "output_type": "stream",
     "text": [
      "1\n",
      "1.5\n",
      "1.625\n",
      "1.6458333333333333\n",
      "1.6484375\n",
      "1.6486979166666667\n"
     ]
    }
   ],
   "source": [
    "# Approximate exp(1/2) with 1,2,3,4,5,6 terms\n",
    "# f_approx1 = 1\n",
    "# f_approx2 = 1.5\n",
    "# f_approx3 = 1.625\n",
    "# f_approx4 = 1.6458333333333333\n",
    "# f_approx5 = 1.6484375\n",
    "# f_approx6 = 1.6486979166666667\n",
    "\n",
    "# - - - - - - - - COMPLETE - - - - - - - \n",
    "f_approx1 = 1 \n",
    "f_approx2 = 1 + 1/2 \n",
    "f_approx3 = 1 + 1/2 + (1/2)**2/2\n",
    "f_approx4 =  \n",
    "f_approx5 =  \n",
    "f_approx6 =  \n",
    "# - - - - - - - - COMPLETE - - - - - - - \n",
    "\n",
    "print(f_approx1)\n",
    "print(f_approx2)\n",
    "print(f_approx3)\n",
    "print(f_approx4)\n",
    "print(f_approx5)\n",
    "print(f_approx6)"
   ]
  },
  {
   "cell_type": "markdown",
   "metadata": {},
   "source": [
    "<!-- f_approx1 = 1 \n",
    "f_approx2 = 1 + 1/2 \n",
    "f_approx3 = 1 + 1/2 + (1/2)**2/2\n",
    "f_approx4 = 1 + 1/2 + (1/2)**2/2 + (1/2)**3/6\n",
    "f_approx5 = 1 + 1/2 + (1/2)**2/2 + (1/2)**3/6 + (1/2)**4/24\n",
    "f_approx6 = 1 + 1/2 + (1/2)**2/2 + (1/2)**3/6 + (1/2)**4/24 + (1/2)**5/120 -->"
   ]
  },
  {
   "cell_type": "code",
   "execution_count": 117,
   "metadata": {},
   "outputs": [
    {
     "name": "stdout",
     "output_type": "stream",
     "text": [
      "et =     9.02%\n"
     ]
    }
   ],
   "source": [
    "# True percent relative errors\n",
    "import numpy as np \n",
    "f_true = np.exp(1/2)\n",
    "\n",
    "# - - - - - - - - COMPLETE - - - - - - - \n",
    "etf = lambda x: \n",
    "# - - - - - - - - COMPLETE - - - - - - - \n",
    "\n",
    "# et = 9.02%\n",
    "print('et = {0:8.2f}%'.format(etf(f_approx2)))\n"
   ]
  },
  {
   "cell_type": "markdown",
   "metadata": {},
   "source": [
    "<!-- etf = lambda x: np.abs((f_true - x)/f_true) * 100 -->"
   ]
  },
  {
   "cell_type": "code",
   "execution_count": 118,
   "metadata": {},
   "outputs": [
    {
     "name": "stdout",
     "output_type": "stream",
     "text": [
      "ea =    33.33%\n",
      "ea =     7.69%\n",
      "ea =     1.27%\n",
      "ea =     0.16%\n",
      "ea =     0.02%\n"
     ]
    }
   ],
   "source": [
    "# apprximate percent relative errors\n",
    "import numpy as np \n",
    "\n",
    "# - - - - - - - - COMPLETE - - - - - - - \n",
    "eaf = lambda x,x_prev: \n",
    "# - - - - - - - - COMPLETE - - - - - - - \n",
    "\n",
    "# ea =    33.33%\n",
    "# ea =     7.69%\n",
    "# ea =     1.27%\n",
    "# ea =     0.16%\n",
    "# ea =     0.02%\n",
    "print('ea = {0:8.2f}%'.format(eaf(f_approx2,f_approx1)))\n",
    "print('ea = {0:8.2f}%'.format(eaf(f_approx3,f_approx2)))\n",
    "print('ea = {0:8.2f}%'.format(eaf(f_approx4,f_approx3)))\n",
    "print('ea = {0:8.2f}%'.format(eaf(f_approx5,f_approx4)))\n",
    "print('ea = {0:8.2f}%'.format(eaf(f_approx6,f_approx5)))"
   ]
  },
  {
   "cell_type": "markdown",
   "metadata": {},
   "source": [
    "<!-- eaf = lambda x,x_prev: np.abs((x - x_prev)/x) * 100 -->"
   ]
  },
  {
   "cell_type": "code",
   "execution_count": 125,
   "metadata": {},
   "outputs": [],
   "source": [
    "# problem \n",
    "import math\n",
    "\n",
    "def itermeth(x, es=1e-4, maxit=10):\n",
    "    \"\"\"\n",
    "    Maclaurin seires exapansion of the exponential function\n",
    "    input: \n",
    "        x = value at which the series is evaluated\n",
    "        es = stopping criterion (default=1e-4)\n",
    "        maxit = maximum number of iterations (default=10)\n",
    "    output:\n",
    "        fx = estimated function value\n",
    "        ea = approximate relative error (%)\n",
    "        iter = number of iterations\n",
    "    \"\"\"\n",
    "    # initialization \n",
    "    iter = 1\n",
    "    sol = 1\n",
    "    ea = 100 \n",
    "\n",
    "    # iterative calcuation \n",
    "    print('      iteration       solution       ea')\n",
    "    while True:\n",
    "        solold = sol \n",
    "        # - - - - - - - - COMPLETE - - - - - - - \n",
    "        sol = \n",
    "        # - - - - - - - - COMPLETE - - - - - - - \n",
    "        iter = iter + 1\n",
    "        if sol!=0: ea = abs((sol - solold)/sol) * 100 \n",
    "        print('{0:10d}   {1:16.14f}    {2:16.13f}'.format(iter,sol,ea))\n",
    "        if ea < es or iter == maxit: break \n",
    "    fx = sol\n",
    "    return fx, ea, iter "
   ]
  },
  {
   "cell_type": "markdown",
   "metadata": {},
   "source": [
    "<!-- sol = sol + x**iter / math.factorial (iter) -->"
   ]
  },
  {
   "cell_type": "code",
   "execution_count": 126,
   "metadata": {},
   "outputs": [
    {
     "name": "stdout",
     "output_type": "stream",
     "text": [
      "      iteration       solution       ea\n",
      "         2   2.00000000000000    50.0000000000000\n",
      "         3   2.50000000000000    20.0000000000000\n",
      "         4   2.66666666666667     6.2500000000000\n",
      "         5   2.70833333333333     1.5384615384615\n",
      "         6   2.71666666666667     0.3067484662577\n",
      "         7   2.71805555555556     0.0510986203373\n",
      "         8   2.71825396825397     0.0072992700730\n",
      "         9   2.71827876984127     0.0009124004343\n",
      "        10   2.71828152557319     0.0001013777233\n",
      "approx = 2.71828e+00\n",
      "ea = 1.01378e-04\n",
      "iter =       10\n"
     ]
    }
   ],
   "source": [
    "approx, ea, iter = itermeth(1, es=1e-4, maxit=10)\n",
    "print('approx = {0:8.5e}'.format(approx))\n",
    "print('ea = {0:8.5e}'.format(ea))\n",
    "print('iter = {0:8d}'.format(iter))"
   ]
  },
  {
   "cell_type": "code",
   "execution_count": 127,
   "metadata": {},
   "outputs": [
    {
     "name": "stdout",
     "output_type": "stream",
     "text": [
      "      iteration       solution       ea\n",
      "         2   2.00000000000000    50.0000000000000\n",
      "         3   2.50000000000000    20.0000000000000\n",
      "         4   2.66666666666667     6.2500000000000\n",
      "         5   2.70833333333333     1.5384615384615\n",
      "         6   2.71666666666667     0.3067484662577\n",
      "         7   2.71805555555556     0.0510986203373\n",
      "         8   2.71825396825397     0.0072992700730\n",
      "         9   2.71827876984127     0.0009124004343\n",
      "        10   2.71828152557319     0.0001013777233\n",
      "        11   2.71828180114638     0.0000101377713\n",
      "approx = 2.71828e+00\n",
      "ea = 1.01378e-05\n",
      "iter =       11\n"
     ]
    }
   ],
   "source": [
    "approx, ea, iter = itermeth(1, es=1e-4, maxit=100)\n",
    "print('approx = {0:8.5e}'.format(approx))\n",
    "print('ea = {0:8.5e}'.format(ea))\n",
    "print('iter = {0:8d}'.format(iter))"
   ]
  },
  {
   "cell_type": "code",
   "execution_count": 11,
   "metadata": {},
   "outputs": [
    {
     "name": "stdout",
     "output_type": "stream",
     "text": [
      "approx = 2.71828e+00\n",
      "ea = 7.68013e-08\n",
      "iter =       13\n"
     ]
    }
   ],
   "source": [
    "approx, ea, iter = itermeth(1, es=1e-7, maxit=100)\n",
    "print('approx = {0:8.5e}'.format(approx))\n",
    "print('ea = {0:8.5e}'.format(ea))\n",
    "print('iter = {0:8d}'.format(iter))"
   ]
  },
  {
   "cell_type": "markdown",
   "metadata": {},
   "source": [
    "## Roundoff Errors"
   ]
  },
  {
   "cell_type": "code",
   "execution_count": 15,
   "metadata": {},
   "outputs": [
    {
     "name": "stdout",
     "output_type": "stream",
     "text": [
      "3.141592653589793\n"
     ]
    }
   ],
   "source": [
    "# 16 significant figures\n",
    "\n",
    "import math \n",
    "print(math.pi) "
   ]
  },
  {
   "cell_type": "code",
   "execution_count": 20,
   "metadata": {},
   "outputs": [
    {
     "name": "stdout",
     "output_type": "stream",
     "text": [
      "1.7976931348623157e+308\n",
      "-1.7976931348623157e+308\n",
      "2.220446049250313e-16\n"
     ]
    }
   ],
   "source": [
    "# largest, smallest positive numbers and machine epsilon\n",
    "\n",
    "import numpy as np \n",
    "\n",
    "print(np.finfo(float).max)\n",
    "print(np.finfo(float).min)\n",
    "print(np.finfo(float).eps)"
   ]
  },
  {
   "cell_type": "code",
   "execution_count": 128,
   "metadata": {},
   "outputs": [
    {
     "name": "stdout",
     "output_type": "stream",
     "text": [
      "0.9999999999999062\n"
     ]
    }
   ],
   "source": [
    "# Add 0.0001 10000 times\n",
    "# s = 0.0001 * 10000\n",
    "def sumdemo():\n",
    "    s = 0 \n",
    "    for i in range(10000):\n",
    "        # - - - - - - - - COMPLETE - - - - - - - \n",
    "        s = \n",
    "        # - - - - - - - - COMPLETE - - - - - - - \n",
    "    return s\n",
    "\n",
    "print(sumdemo())"
   ]
  },
  {
   "cell_type": "markdown",
   "metadata": {},
   "source": [
    "<!-- s = s + 0.0001 -->"
   ]
  },
  {
   "cell_type": "code",
   "execution_count": 129,
   "metadata": {},
   "outputs": [
    {
     "name": "stdout",
     "output_type": "stream",
     "text": [
      "[0.000e+00 1.000e-04 2.000e-04 ... 9.998e-01 9.999e-01 1.000e+00]\n",
      "1.0\n"
     ]
    }
   ],
   "source": [
    "import numpy as np \n",
    "s = np.arange(0,1.0001,0.0001)\n",
    "print(s)\n",
    "print(s[10000])"
   ]
  },
  {
   "cell_type": "code",
   "execution_count": 130,
   "metadata": {},
   "outputs": [
    {
     "data": {
      "text/plain": [
       "'1010'"
      ]
     },
     "execution_count": 130,
     "metadata": {},
     "output_type": "execute_result"
    }
   ],
   "source": [
    "# decimal to binary \n",
    "bin(10).replace(\"0b\", \"\") "
   ]
  },
  {
   "cell_type": "code",
   "execution_count": 131,
   "metadata": {},
   "outputs": [
    {
     "name": "stdout",
     "output_type": "stream",
     "text": [
      "100.011\n",
      "110.11111\n",
      ".0001100110\n"
     ]
    }
   ],
   "source": [
    "# from https://www.geeksforgeeks.org/convert-decimal-fraction-binary-number/\n",
    "# Python3 program to convert fractional  \n",
    "# decimal to binary number  \n",
    "  \n",
    "# Function to convert decimal to binary  \n",
    "# upto k-precision after decimal point  \n",
    "def decimalToBinary(num, k_prec) : \n",
    "  \n",
    "    binary = \"\"  \n",
    "  \n",
    "    # Fetch the integral part of \n",
    "    # decimal number  \n",
    "    Integral = int(num)  \n",
    "  \n",
    "    # Fetch the fractional part  \n",
    "    # decimal number  \n",
    "    fractional = num - Integral \n",
    "  \n",
    "    # Conversion of integral part to  \n",
    "    # binary equivalent  \n",
    "    while (Integral) : \n",
    "          \n",
    "        rem = Integral % 2\n",
    "  \n",
    "        # Append 0 in binary  \n",
    "        binary += str(rem);  \n",
    "  \n",
    "        Integral //= 2\n",
    "      \n",
    "    # Reverse string to get original \n",
    "    # binary equivalent  \n",
    "    binary = binary[ : : -1]  \n",
    "  \n",
    "    # Append point before conversion  \n",
    "    # of fractional part  \n",
    "    binary += '.'\n",
    "  \n",
    "    # Conversion of fractional part \n",
    "    # to binary equivalent  \n",
    "    while (k_prec) : \n",
    "          \n",
    "        # Find next bit in fraction  \n",
    "        fractional *= 2\n",
    "        fract_bit = int(fractional)  \n",
    "  \n",
    "        if (fract_bit == 1) : \n",
    "              \n",
    "            fractional -= fract_bit  \n",
    "            binary += '1'\n",
    "              \n",
    "        else : \n",
    "            binary += '0'\n",
    "  \n",
    "        k_prec -= 1\n",
    "  \n",
    "    return binary  \n",
    "  \n",
    "# Driver code  \n",
    "if __name__ == \"__main__\" : \n",
    "      \n",
    "    n = 4.47\n",
    "    k = 3\n",
    "    print(decimalToBinary(n, k)) \n",
    "  \n",
    "    n = 6.986\n",
    "    k = 5\n",
    "    print(decimalToBinary(n, k)) \n",
    "  \n",
    "# This code is contributed by Ryuga \n",
    "\n",
    "print(decimalToBinary(0.1, 10))"
   ]
  },
  {
   "cell_type": "markdown",
   "metadata": {},
   "source": [
    "## Truncation Error"
   ]
  },
  {
   "cell_type": "markdown",
   "metadata": {},
   "source": [
    "Ex 4.3\n"
   ]
  },
  {
   "cell_type": "code",
   "execution_count": 133,
   "metadata": {},
   "outputs": [
    {
     "name": "stdout",
     "output_type": "stream",
     "text": [
      "0.5000000000000001\n"
     ]
    }
   ],
   "source": [
    "# ex 4.3\n",
    "import numpy as np \n",
    "f = lambda x: np.cos(x)\n",
    "\n",
    "x = math.pi/4\n",
    "xp = math.pi/3\n",
    "h = xp - x \n",
    "\n",
    "f_true = f(xp)\n",
    "print(f_true)\n"
   ]
  },
  {
   "cell_type": "code",
   "execution_count": 47,
   "metadata": {},
   "outputs": [
    {
     "name": "stdout",
     "output_type": "stream",
     "text": [
      "f0=   0.707106781186548\n"
     ]
    }
   ],
   "source": [
    "# zeroth order approximation\n",
    "f0 = f(x)\n",
    "print('f0={0:20.15f}'.format(f0))"
   ]
  },
  {
   "cell_type": "code",
   "execution_count": 62,
   "metadata": {},
   "outputs": [
    {
     "name": "stdout",
     "output_type": "stream",
     "text": [
      "et=  41.421%\n"
     ]
    }
   ],
   "source": [
    "# true percent relative error \n",
    "et = np.abs((f_true - f0)/f_true) * 100 \n",
    "print('et={0:8.3f}%'.format(et))"
   ]
  },
  {
   "cell_type": "code",
   "execution_count": 134,
   "metadata": {},
   "outputs": [
    {
     "name": "stdout",
     "output_type": "stream",
     "text": [
      "0.5219866587632824\n"
     ]
    }
   ],
   "source": [
    "# first-order approximation\n",
    "dfdx = -np.sin(x)\n",
    "# - - - - - - - - COMPLETE - - - - - - - \n",
    "f1 = f0 \n",
    "# - - - - - - - - COMPLETE - - - - - - - \n",
    "print(f1)"
   ]
  },
  {
   "cell_type": "markdown",
   "metadata": {},
   "source": [
    "<!-- f1 = f0 + dfdx * h  -->"
   ]
  },
  {
   "cell_type": "code",
   "execution_count": 135,
   "metadata": {},
   "outputs": [
    {
     "name": "stdout",
     "output_type": "stream",
     "text": [
      "et=   4.397%\n"
     ]
    }
   ],
   "source": [
    "# true percent relative error \n",
    "et = np.abs((f_true - f1)/f_true) * 100 \n",
    "print('et={0:8.3f}%'.format(et))"
   ]
  },
  {
   "cell_type": "code",
   "execution_count": 136,
   "metadata": {},
   "outputs": [
    {
     "name": "stdout",
     "output_type": "stream",
     "text": [
      "0.4977544914034252\n"
     ]
    }
   ],
   "source": [
    "# second-order approximation\n",
    "dfdx = -np.sin(x)\n",
    "d2fdx2 = -np.cos(x)\n",
    "\n",
    "# - - - - - - - - COMPLETE - - - - - - - \n",
    "f2 = f0 \n",
    "# - - - - - - - - COMPLETE - - - - - - - \n",
    "print(f2)"
   ]
  },
  {
   "cell_type": "markdown",
   "metadata": {},
   "source": [
    "<!-- f2 = f0 + dfdx * h + d2fdx2 * h*h/2 -->"
   ]
  },
  {
   "cell_type": "code",
   "execution_count": 137,
   "metadata": {},
   "outputs": [
    {
     "name": "stdout",
     "output_type": "stream",
     "text": [
      "et=   0.449%\n"
     ]
    }
   ],
   "source": [
    "# true percent relative error \n",
    "et = np.abs((f_true - f2)/f_true) * 100 \n",
    "print('et={0:8.3f}%'.format(et))"
   ]
  },
  {
   "cell_type": "markdown",
   "metadata": {},
   "source": [
    "Ex 4.4"
   ]
  },
  {
   "cell_type": "code",
   "execution_count": 139,
   "metadata": {},
   "outputs": [
    {
     "name": "stdout",
     "output_type": "stream",
     "text": [
      "-0.9125\n"
     ]
    }
   ],
   "source": [
    "f = lambda x: -0.1*x**4.0 - 0.15 * x**3.0 - 0.5 * x**2.0 - 0.25*x + 1.2\n",
    "dfdx = lambda x: -0.4*x**3.0 - 0.45 * x**2.0 - x - 0.25\n"
   ]
  },
  {
   "cell_type": "code",
   "execution_count": 140,
   "metadata": {},
   "outputs": [
    {
     "name": "stdout",
     "output_type": "stream",
     "text": [
      "   1.200\n",
      "   0.925\n",
      "   0.200\n"
     ]
    }
   ],
   "source": [
    "h = 0.5\n",
    "x = 0.5\n",
    "\n",
    "xm = x - h \n",
    "xi = x \n",
    "xp = x + h \n",
    "\n",
    "fm = f(xm)\n",
    "fi = f(xi)\n",
    "fp = f(xp)\n",
    "\n",
    "print('{0:8.3f}'.format(fm))\n",
    "print('{0:8.3f}'.format(fi))\n",
    "print('{0:8.3f}'.format(fp))\n"
   ]
  },
  {
   "cell_type": "code",
   "execution_count": 141,
   "metadata": {},
   "outputs": [
    {
     "ename": "SyntaxError",
     "evalue": "invalid syntax (1230082386.py, line 3)",
     "output_type": "error",
     "traceback": [
      "\u001b[0;36m  Cell \u001b[0;32mIn[141], line 3\u001b[0;36m\u001b[0m\n\u001b[0;31m    dfdx_forward =\u001b[0m\n\u001b[0m                   ^\u001b[0m\n\u001b[0;31mSyntaxError\u001b[0m\u001b[0;31m:\u001b[0m invalid syntax\n"
     ]
    }
   ],
   "source": [
    "# forward difference \n",
    "# - - - - - - - - COMPLETE - - - - - - - \n",
    "dfdx_forward = \n",
    "# - - - - - - - - COMPLETE - - - - - - - \n",
    "print(dfdx_forward) # -1.45\n",
    "\n",
    "# true percent relative error \n",
    "et = np.abs((dfdx(xi) - dfdx_forward)/dfdx(xi)) * 100 \n",
    "print('et={0:8.3f}%'.format(et)) #et=  58.904%\n"
   ]
  },
  {
   "cell_type": "markdown",
   "metadata": {},
   "source": [
    "<!-- dfdx_forward = (fp - fi)/ h  -->"
   ]
  },
  {
   "cell_type": "code",
   "execution_count": 73,
   "metadata": {},
   "outputs": [
    {
     "name": "stdout",
     "output_type": "stream",
     "text": [
      "-0.55\n",
      "et=  39.726%\n"
     ]
    }
   ],
   "source": [
    "# backward difference \n",
    "# - - - - - - - - COMPLETE - - - - - - - \n",
    "dfdx_backward = \n",
    "# - - - - - - - - COMPLETE - - - - - - - \n",
    "print(dfdx_backward) # -0.55\n",
    "\n",
    "# true percent relative error \n",
    "et = np.abs((dfdx(xi) - dfdx_backward)/dfdx(xi)) * 100 \n",
    "print('et={0:8.3f}%'.format(et)) # et=  39.726%\n"
   ]
  },
  {
   "cell_type": "markdown",
   "metadata": {},
   "source": [
    "<!-- dfdx_backward = (fi - fm)/ h  -->"
   ]
  },
  {
   "cell_type": "code",
   "execution_count": 74,
   "metadata": {},
   "outputs": [
    {
     "name": "stdout",
     "output_type": "stream",
     "text": [
      "-1.0\n",
      "et=   9.589%\n"
     ]
    }
   ],
   "source": [
    "# central difference\n",
    "# - - - - - - - - COMPLETE - - - - - - -  \n",
    "dfdx_central = \n",
    "# - - - - - - - - COMPLETE - - - - - - - \n",
    "print(dfdx_central) # -1.0\n",
    "\n",
    "# true percent relative error \n",
    "et = np.abs((dfdx(xi) - dfdx_central)/dfdx(xi)) * 100 \n",
    "print('et={0:8.3f}%'.format(et)) # et=   9.589%\n"
   ]
  },
  {
   "cell_type": "markdown",
   "metadata": {},
   "source": [
    "<!-- dfdx_central = (fp - fm)/ (2*h) -->"
   ]
  },
  {
   "cell_type": "code",
   "execution_count": 75,
   "metadata": {},
   "outputs": [],
   "source": [
    "# Repeat this precedure with h=1/4"
   ]
  },
  {
   "cell_type": "markdown",
   "metadata": {},
   "source": [
    "Ex 4.5"
   ]
  },
  {
   "cell_type": "code",
   "execution_count": 142,
   "metadata": {},
   "outputs": [],
   "source": [
    "f = lambda x: -0.1*x**4.0 - 0.15 * x**3.0 - 0.5 * x**2.0 - 0.25*x + 1.2\n",
    "dfdx = lambda x: -0.4*x**3.0 - 0.45 * x**2.0 - x - 0.25\n"
   ]
  },
  {
   "cell_type": "code",
   "execution_count": 143,
   "metadata": {},
   "outputs": [],
   "source": [
    "import numpy as np \n",
    "def diffex(func, dfunc, x, n):\n",
    "    dftrue = dfunc(x)\n",
    "    h = 1\n",
    "    H = np.zeros(n)\n",
    "    D = np.zeros(n)\n",
    "    E = np.zeros(n)\n",
    "\n",
    "    H[0]= h \n",
    "    D[0]= (func(x+h)-func(x-h))/(2*h)\n",
    "    E[0]= abs(dftrue-D[0])\n",
    "    \n",
    "    for i in range(1,n):\n",
    "        h = h/10 \n",
    "        H[i] = h \n",
    "        D[i] = (func(x+h)-func(x-h))/(2*h)\n",
    "        E[i]= abs(dftrue-D[i])\n",
    "    return H,D,E\n",
    "\n",
    "\n"
   ]
  },
  {
   "cell_type": "code",
   "execution_count": 144,
   "metadata": {},
   "outputs": [],
   "source": [
    "H,D,E = diffex(f, dfdx, 0.5, 11)"
   ]
  },
  {
   "cell_type": "code",
   "execution_count": 80,
   "metadata": {},
   "outputs": [
    {
     "name": "stdout",
     "output_type": "stream",
     "text": [
      "  stepsize   finite difference    true error\n",
      "  1.0000000000   -1.26250000000000     0.3500000000000\n",
      "  0.1000000000   -0.91600000000000     0.0035000000000\n",
      "  0.0100000000   -0.91253500000000     0.0000350000000\n",
      "  0.0010000000   -0.91250035000001     0.0000003500000\n",
      "  0.0001000000   -0.91250000349985     0.0000000034998\n",
      "  0.0000100000   -0.91250000003318     0.0000000000332\n",
      "  0.0000010000   -0.91250000000542     0.0000000000054\n",
      "  0.0000001000   -0.91249999945031     0.0000000005497\n",
      "  0.0000000100   -0.91250000333609     0.0000000033361\n",
      "  0.0000000010   -0.91250001998944     0.0000000199894\n",
      "  0.0000000001   -0.91250007550059     0.0000000755006\n"
     ]
    }
   ],
   "source": [
    "print('  stepsize   finite difference    true error')\n",
    "for i in range(11):\n",
    "    print('{0:14.10f}   {1:16.14f}    {2:16.13f}'.format(H[i],D[i],E[i]))"
   ]
  },
  {
   "cell_type": "code",
   "execution_count": 92,
   "metadata": {},
   "outputs": [
    {
     "data": {
      "text/plain": [
       "Text(0.5, 0, 'Step size')"
      ]
     },
     "execution_count": 92,
     "metadata": {},
     "output_type": "execute_result"
    },
    {
     "data": {
      "image/png": "[encoded data removed]",
      "text/plain": [
       "<Figure size 640x480 with 1 Axes>"
      ]
     },
     "metadata": {},
     "output_type": "display_data"
    }
   ],
   "source": [
    "import matplotlib.pyplot as plt \n",
    "\n",
    "plt.plot(np.flip(H),np.flip(E))\n",
    "plt.xscale('log')\n",
    "plt.yscale('log')\n",
    "plt.ylabel('Error')\n",
    "plt.xlabel('Step size')\n"
   ]
  },
  {
   "cell_type": "code",
   "execution_count": 149,
   "metadata": {},
   "outputs": [
    {
     "name": "stdout",
     "output_type": "stream",
     "text": [
      "2.000000000000117\n",
      "2.0000000000287232\n",
      "1.9999999853904389\n",
      "2.0000186456711937\n",
      "0.7866333181984776\n",
      "-0.783121056671753\n"
     ]
    }
   ],
   "source": [
    "# rate of convergence \n",
    "rate1 = np.log(E[0]/E[1])/np.log(10)\n",
    "rate2 = np.log(E[1]/E[2])/np.log(10)\n",
    "rate3 = np.log(E[2]/E[3])/np.log(10)\n",
    "rate4 = np.log(E[3]/E[4])/np.log(10)\n",
    "rate5 = np.log(E[5]/E[6])/np.log(10)\n",
    "rate6 = np.log(E[7]/E[8])/np.log(10)\n",
    "\n",
    "print(rate1)\n",
    "print(rate2)\n",
    "print(rate3)\n",
    "print(rate4)\n",
    "print(rate5)\n",
    "print(rate6)"
   ]
  },
  {
   "cell_type": "code",
   "execution_count": null,
   "metadata": {},
   "outputs": [],
   "source": []
  }
 ],
 "metadata": {
  "kernelspec": {
   "display_name": ".venv",
   "language": "python",
   "name": "python3"
  },
  "language_info": {
   "codemirror_mode": {
    "name": "ipython",
    "version": 3
   },
   "file_extension": ".py",
   "mimetype": "text/x-python",
   "name": "python",
   "nbconvert_exporter": "python",
   "pygments_lexer": "ipython3",
   "version": "3.11.0"
  }
 },
 "nbformat": 4,
 "nbformat_minor": 2
}
